{
 "cells": [
  {
   "cell_type": "code",
   "execution_count": 1,
   "metadata": {
    "collapsed": false
   },
   "outputs": [
    {
     "data": {
      "application/javascript": [
       "\n",
       "require(['notebook'],\n",
       "  function() {\n",
       "    IPython.CodeCell.config_defaults.highlight_modes['magic_text/x-c++src'] = {'reg':[/^%%cpp/]};\n",
       "    console.log(\"JupyROOT - %%cpp magic configured\");\n",
       "  }\n",
       ");\n"
      ]
     },
     "metadata": {},
     "output_type": "display_data"
    },
    {
     "name": "stdout",
     "output_type": "stream",
     "text": [
      "Welcome to JupyROOT 6.08/04\n"
     ]
    }
   ],
   "source": [
    "# bcMax\n",
    "# Results (99%) (95%) (log-normal fit)\n",
    "# DS0: 826, 731\n",
    "# DS1: 642, 568\n",
    "# DS2: none\n",
    "# DS3: 658, 582\n",
    "# DS4: 578, 515\n",
    "# DS5: 770, 667\n",
    "\n",
    "# noiseWeight\n",
    "# DS0: raw 99: 0.782  95: 0.688  01: 0.324  05: 0.370\n",
    "#      (wbc 99: 0.782  95: 0.688  01: 0.342  05: 0.374)\n",
    "# DS1: raw 99: 0.956  95: 0.874  01: 0.300  05: 0.414\n",
    "# DS2: none yet\n",
    "# DS3: raw 99: 0.938  95: 0.852  01: 0.280  05: 0.422\n",
    "# DS4: raw 99: 0.988  95: 0.916  01: 0.370  05: 0.480\n",
    "# DS5: raw 99: 0.914  95: 0.826  01: 0.308  05: 0.376\n",
    "\n",
    "# pol2\n",
    "# DS0: raw 99: 1.16e-06  95: 9.72e-07  01: -4.55e-06  05: -8.28e-07\n",
    "# DS1: raw 99: 1.09e-06  95: 9.12e-07  01: -4.73e-06  05: -9.36e-07\n",
    "# DS2: none yet\n",
    "# DS3: raw 99: 1.14e-06  95: 9.60e-07  01: -4.37e-06  05: -8.88e-07\n",
    "# DS4: raw 99: 9.48e-07  95: 7.08e-07  01: -4.46e-06  05: -1.06e-06\n",
    "# DS5: raw 99: 1.28e-06  95: 1.02e-06  01: -5.29e-06  05: -1.06e-06\n",
    "\n",
    "# pol3\n",
    "# DS0: raw 99: 5.74e-11  95: 1.40e-11  01: -2.38e-11  05: -1.88e-11\n",
    "# DS1: raw 99: 5.76e-11  95: 1.58e-11  01: -2.24e-11  05: -1.76e-11\n",
    "# DS2: none yet\n",
    "# DS3: raw 99: 5.56e-11  95: 1.62e-11  01: -2.34e-11  05: -1.86e-11\n",
    "# DS4: raw 99: 5.84e-11  95: 2.00e-11  01: -1.96e-11  05: -1.36e-11\n",
    "# DS5: raw 99: 6.02e-11  95: 1.74e-11  01: -2.74e-11  05: -2.00e-11\n",
    "\n",
    "# Raw results (which gives the best reduction in which DS?)\n",
    "# DS0: raw 2305421  bcMax 1862514 (0.81)  noiseWeight 1713347 (0.74)  pol2 2128426 (0.92)  pol3 2123633 (0.92)\n",
    "# DS1: raw 42039  bcMax 37654 (0.90)  noiseWeight 21983 (0.52)  pol2 29367 (0.70)  pol3 28835 (0.69)\n",
    "# DS2: none yet\n",
    "# DS3: raw 2081200  bcMax 1612826 (0.77)  noiseWeight 692444 (0.33)  pol2 2055909 (0.99)  pol3 2054380 (0.99)\n",
    "# DS4: raw 753553  bcMax 695941 (0.92)  noiseWeight 149562 (0.20)  pol2 654206 (0.87)  pol3 652343 (0.87) \n",
    "# DS5: raw 42408424  bcMax 27547135 (0.65)  noiseWeight 7204942 (0.17)  pol2 41390014 (0.98)  pol3 41120985 (0.97)\n",
    "\n",
    "# looks like noiseWeight is the winner.\n",
    "# Order -- noiseWeight, bcMax, pol2+pol3\n",
    "\n",
    "import ROOT\n",
    "ROOT.gROOT.ProcessLine(\".x ~/env/MJDClintPlotStyle.C\")\n",
    "\n",
    "dsBcMax = [826,642,0,658,578,770]\n",
    "dsNoiseWt = [(0.324,0.782),(0.3,0.956),(0,0),(0.280,0.938),(0.370,0.988),(0.308,0.914)]\n",
    "dsPol2 = [(-4.55e-6,1.16e-6),(-4.73e-6,1.09e-6),(0,0),(-4.37e-6,1.14e-6),(-4.46e-6,0.948e-6),(-5.29e-6,1.28e-6)]\n",
    "dsPol3 = [(-2.38e-11,5.74e-11),(-2.24e-11,5.76e-11),(0,0),(-2.34e-11,5.56e-11),(-1.96e-11,5.84e-11),(-2.74e-11,6.02e-11)]\n",
    "\n",
    "def H1D(tree,nameStr,bins,xlo,xhi,drawStr,cutStr):\n",
    "    h1 = ROOT.TH1D(nameStr,nameStr,bins,xlo,xhi)\n",
    "    tree.Project(nameStr,drawStr,cutStr)\n",
    "    return h1"
   ]
  },
  {
   "cell_type": "code",
   "execution_count": 2,
   "metadata": {
    "collapsed": false
   },
   "outputs": [
    {
     "name": "stdout",
     "output_type": "stream",
     "text": [
      "raw 2305421  bcMax 1862514 (0.81)  noiseWeight 1713347 (0.74)  pol2 2128426 (0.92)  pol3 2123633 (0.92)\n"
     ]
    },
    {
     "data": {
      "image/png": "[encoded data removed]",
      "text/plain": [
       "<IPython.core.display.Image object>"
      ]
     },
     "metadata": {},
     "output_type": "display_data"
    }
   ],
   "source": [
    "ds = 0\n",
    "f1 = ROOT.TFile(\"~/project/lat/latSkimDS%d_0_0.root\"%ds)\n",
    "theCut = f1.Get(\"theCut\").GetTitle()\n",
    "\n",
    "bkg = ROOT.TChain(\"skimTree\")\n",
    "bkg.Add(\"~/project/lat/latSkimDS%d*.root\"%ds)\n",
    "\n",
    "c = ROOT.TCanvas(\"c\",\"c\",800,600)\n",
    "ROOT.gPad.SetLogy(1)\n",
    "bins,lower,upper = 100,0,20\n",
    "\n",
    "# raw\n",
    "h0 = H1D(bkg,\"h0\",bins,lower,upper,\"trapENFCal\",theCut)\n",
    "h0cts = h0.Integral()\n",
    "\n",
    "# bcMax\n",
    "thisCut = theCut + \" && bcMax < %d\" % dsBcMax[ds]\n",
    "h1 = H1D(bkg,\"h1\",bins,lower,upper,\"trapENFCal\",thisCut)\n",
    "h1cts = h1.Integral()\n",
    "\n",
    "# noiseWeight\n",
    "thisCut = theCut + \" && (waveS4-waveS1)/bcMax/trapENFCal > %.2f && (waveS4-waveS1)/bcMax/trapENFCal < %.2f\" % (dsNoiseWt[ds][0],dsNoiseWt[ds][1])\n",
    "h2 = H1D(bkg,\"h2\",bins,lower,upper,\"trapENFCal\",thisCut)\n",
    "h2cts = h2.Integral()\n",
    "\n",
    "# pol2\n",
    "thisCut = theCut + \" && pol2 > %.3e && pol2 < %.3e\" % (dsPol2[ds][0],dsPol2[ds][1])\n",
    "h3 = H1D(bkg,\"h3\",bins,lower,upper,\"trapENFCal\",thisCut)\n",
    "h3cts = h3.Integral()\n",
    "\n",
    "# pol3\n",
    "thisCut = theCut + \" && pol3 > %.3e && pol3 < %.3e\" % (dsPol3[ds][0],dsPol3[ds][1])\n",
    "h4 = H1D(bkg,\"h4\",bins,lower,upper,\"trapENFCal\",thisCut)\n",
    "h4cts = h4.Integral()\n",
    "\n",
    "print \"raw %d  bcMax %d (%.2f)  noiseWeight %d (%.2f)  pol2 %d (%.2f)  pol3 %d (%.2f)\" % (h0cts,h1cts,h1cts/h0cts,h2cts,h2cts/h0cts,h3cts,h3cts/h0cts,h4cts,h4cts/h0cts)\n",
    "\n",
    "\n",
    "# -- Plot --\n",
    "h0.SetLineColor(ROOT.kBlack)\n",
    "h1.SetLineColor(ROOT.kRed)\n",
    "h2.SetLineColor(ROOT.kBlue)\n",
    "h3.SetLineColor(ROOT.kMagenta)\n",
    "h4.SetLineColor(ROOT.kCyan)\n",
    "\n",
    "h0.Draw(\"hist\")\n",
    "h1.Draw(\"hist same\")\n",
    "h2.Draw(\"hist same\")\n",
    "h3.Draw(\"hist same\")\n",
    "h4.Draw(\"hist same\")\n",
    "\n",
    "l1 = ROOT.TLegend(0.6,0.6,0.85,0.85)\n",
    "l1.AddEntry(h0,\"basic\",\"l\")\n",
    "l1.AddEntry(h1,\"bcMax\",\"l\")\n",
    "l1.AddEntry(h2,\"noiseWeight\",\"l\")\n",
    "l1.AddEntry(h3,\"pol2\",\"l\")\n",
    "l1.AddEntry(h4,\"pol3\",\"l\")\n",
    "l1.Draw(\"same\")\n",
    "\n",
    "c.Draw()"
   ]
  },
  {
   "cell_type": "code",
   "execution_count": 3,
   "metadata": {
    "collapsed": false
   },
   "outputs": [
    {
     "name": "stdout",
     "output_type": "stream",
     "text": [
      "raw 42039  bcMax 37654 (0.90)  noiseWeight 21983 (0.52)  pol2 29367 (0.70)  pol3 28835 (0.69)\n"
     ]
    },
    {
     "name": "stderr",
     "output_type": "stream",
     "text": [
      "Warning in <TCanvas::Constructor>: Deleting canvas with same name: c\n"
     ]
    },
    {
     "data": {
      "image/png": "[encoded data removed]",
      "text/plain": [
       "<IPython.core.display.Image object>"
      ]
     },
     "metadata": {},
     "output_type": "display_data"
    }
   ],
   "source": [
    "ds = 1\n",
    "f1 = ROOT.TFile(\"~/project/lat/latSkimDS%d_0_0.root\"%ds)\n",
    "theCut = f1.Get(\"theCut\").GetTitle()\n",
    "\n",
    "bkg = ROOT.TChain(\"skimTree\")\n",
    "bkg.Add(\"~/project/lat/latSkimDS%d*.root\"%ds)\n",
    "\n",
    "c = ROOT.TCanvas(\"c\",\"c\",800,600)\n",
    "ROOT.gPad.SetLogy(1)\n",
    "bins,lower,upper = 100,0,20\n",
    "\n",
    "# raw\n",
    "h0 = H1D(bkg,\"h0\",bins,lower,upper,\"trapENFCal\",theCut)\n",
    "h0cts = h0.Integral()\n",
    "\n",
    "# bcMax\n",
    "thisCut = theCut + \" && bcMax < %d\" % dsBcMax[ds]\n",
    "h1 = H1D(bkg,\"h1\",bins,lower,upper,\"trapENFCal\",thisCut)\n",
    "h1cts = h1.Integral()\n",
    "\n",
    "# noiseWeight\n",
    "thisCut = theCut + \" && (waveS4-waveS1)/bcMax/trapENFCal > %.2f && (waveS4-waveS1)/bcMax/trapENFCal < %.2f\" % (dsNoiseWt[ds][0],dsNoiseWt[ds][1])\n",
    "h2 = H1D(bkg,\"h2\",bins,lower,upper,\"trapENFCal\",thisCut)\n",
    "h2cts = h2.Integral()\n",
    "\n",
    "# pol2\n",
    "thisCut = theCut + \" && pol2 > %.3e && pol2 < %.3e\" % (dsPol2[ds][0],dsPol2[ds][1])\n",
    "h3 = H1D(bkg,\"h3\",bins,lower,upper,\"trapENFCal\",thisCut)\n",
    "h3cts = h3.Integral()\n",
    "\n",
    "# pol3\n",
    "thisCut = theCut + \" && pol3 > %.3e && pol3 < %.3e\" % (dsPol3[ds][0],dsPol3[ds][1])\n",
    "h4 = H1D(bkg,\"h4\",bins,lower,upper,\"trapENFCal\",thisCut)\n",
    "h4cts = h4.Integral()\n",
    "\n",
    "print \"raw %d  bcMax %d (%.2f)  noiseWeight %d (%.2f)  pol2 %d (%.2f)  pol3 %d (%.2f)\" % (h0cts,h1cts,h1cts/h0cts,h2cts,h2cts/h0cts,h3cts,h3cts/h0cts,h4cts,h4cts/h0cts)\n",
    "\n",
    "\n",
    "# -- Plot --\n",
    "h0.SetLineColor(ROOT.kBlack)\n",
    "h1.SetLineColor(ROOT.kRed)\n",
    "h2.SetLineColor(ROOT.kBlue)\n",
    "h3.SetLineColor(ROOT.kMagenta)\n",
    "h4.SetLineColor(ROOT.kCyan)\n",
    "\n",
    "h0.Draw(\"hist\")\n",
    "h1.Draw(\"hist same\")\n",
    "h2.Draw(\"hist same\")\n",
    "h3.Draw(\"hist same\")\n",
    "h4.Draw(\"hist same\")\n",
    "\n",
    "l1 = ROOT.TLegend(0.6,0.6,0.85,0.85)\n",
    "l1.AddEntry(h0,\"basic\",\"l\")\n",
    "l1.AddEntry(h1,\"bcMax\",\"l\")\n",
    "l1.AddEntry(h2,\"noiseWeight\",\"l\")\n",
    "l1.AddEntry(h3,\"pol2\",\"l\")\n",
    "l1.AddEntry(h4,\"pol3\",\"l\")\n",
    "l1.Draw(\"same\")\n",
    "\n",
    "c.Draw()"
   ]
  },
  {
   "cell_type": "code",
   "execution_count": 4,
   "metadata": {
    "collapsed": false
   },
   "outputs": [
    {
     "name": "stdout",
     "output_type": "stream",
     "text": [
      "raw 2081200  bcMax 1612826 (0.77)  noiseWeight 692444 (0.33)  pol2 2055909 (0.99)  pol3 2054380 (0.99)\n"
     ]
    },
    {
     "name": "stderr",
     "output_type": "stream",
     "text": [
      "Warning in <TCanvas::Constructor>: Deleting canvas with same name: c\n"
     ]
    },
    {
     "data": {
      "image/png": "[encoded data removed]",
      "text/plain": [
       "<IPython.core.display.Image object>"
      ]
     },
     "metadata": {},
     "output_type": "display_data"
    }
   ],
   "source": [
    "ds = 3\n",
    "f1 = ROOT.TFile(\"~/project/lat/latSkimDS%d_0_0.root\"%ds)\n",
    "theCut = f1.Get(\"theCut\").GetTitle()\n",
    "\n",
    "bkg = ROOT.TChain(\"skimTree\")\n",
    "bkg.Add(\"~/project/lat/latSkimDS%d*.root\"%ds)\n",
    "\n",
    "c = ROOT.TCanvas(\"c\",\"c\",800,600)\n",
    "ROOT.gPad.SetLogy(1)\n",
    "bins,lower,upper = 100,0,20\n",
    "\n",
    "# raw\n",
    "h0 = H1D(bkg,\"h0\",bins,lower,upper,\"trapENFCal\",theCut)\n",
    "h0cts = h0.Integral()\n",
    "\n",
    "# bcMax\n",
    "thisCut = theCut + \" && bcMax < %d\" % dsBcMax[ds]\n",
    "h1 = H1D(bkg,\"h1\",bins,lower,upper,\"trapENFCal\",thisCut)\n",
    "h1cts = h1.Integral()\n",
    "\n",
    "# noiseWeight\n",
    "thisCut = theCut + \" && (waveS4-waveS1)/bcMax/trapENFCal > %.2f && (waveS4-waveS1)/bcMax/trapENFCal < %.2f\" % (dsNoiseWt[ds][0],dsNoiseWt[ds][1])\n",
    "h2 = H1D(bkg,\"h2\",bins,lower,upper,\"trapENFCal\",thisCut)\n",
    "h2cts = h2.Integral()\n",
    "\n",
    "# pol2\n",
    "thisCut = theCut + \" && pol2 > %.3e && pol2 < %.3e\" % (dsPol2[ds][0],dsPol2[ds][1])\n",
    "h3 = H1D(bkg,\"h3\",bins,lower,upper,\"trapENFCal\",thisCut)\n",
    "h3cts = h3.Integral()\n",
    "\n",
    "# pol3\n",
    "thisCut = theCut + \" && pol3 > %.3e && pol3 < %.3e\" % (dsPol3[ds][0],dsPol3[ds][1])\n",
    "h4 = H1D(bkg,\"h4\",bins,lower,upper,\"trapENFCal\",thisCut)\n",
    "h4cts = h4.Integral()\n",
    "\n",
    "print \"raw %d  bcMax %d (%.2f)  noiseWeight %d (%.2f)  pol2 %d (%.2f)  pol3 %d (%.2f)\" % (h0cts,h1cts,h1cts/h0cts,h2cts,h2cts/h0cts,h3cts,h3cts/h0cts,h4cts,h4cts/h0cts)\n",
    "\n",
    "\n",
    "# -- Plot --\n",
    "h0.SetLineColor(ROOT.kBlack)\n",
    "h1.SetLineColor(ROOT.kRed)\n",
    "h2.SetLineColor(ROOT.kBlue)\n",
    "h3.SetLineColor(ROOT.kMagenta)\n",
    "h4.SetLineColor(ROOT.kCyan)\n",
    "\n",
    "h0.Draw(\"hist\")\n",
    "h1.Draw(\"hist same\")\n",
    "h2.Draw(\"hist same\")\n",
    "h3.Draw(\"hist same\")\n",
    "h4.Draw(\"hist same\")\n",
    "\n",
    "l1 = ROOT.TLegend(0.6,0.6,0.85,0.85)\n",
    "l1.AddEntry(h0,\"basic\",\"l\")\n",
    "l1.AddEntry(h1,\"bcMax\",\"l\")\n",
    "l1.AddEntry(h2,\"noiseWeight\",\"l\")\n",
    "l1.AddEntry(h3,\"pol2\",\"l\")\n",
    "l1.AddEntry(h4,\"pol3\",\"l\")\n",
    "l1.Draw(\"same\")\n",
    "\n",
    "c.Draw()"
   ]
  },
  {
   "cell_type": "code",
   "execution_count": 5,
   "metadata": {
    "collapsed": false
   },
   "outputs": [
    {
     "name": "stdout",
     "output_type": "stream",
     "text": [
      "raw 753553  bcMax 695941 (0.92)  noiseWeight 149562 (0.20)  pol2 654206 (0.87)  pol3 652343 (0.87)\n"
     ]
    },
    {
     "name": "stderr",
     "output_type": "stream",
     "text": [
      "Warning in <TCanvas::Constructor>: Deleting canvas with same name: c\n"
     ]
    },
    {
     "data": {
      "image/png": "[encoded data removed]",
      "text/plain": [
       "<IPython.core.display.Image object>"
      ]
     },
     "metadata": {},
     "output_type": "display_data"
    }
   ],
   "source": [
    "ds = 4\n",
    "f1 = ROOT.TFile(\"~/project/lat/latSkimDS%d_0_0.root\"%ds)\n",
    "theCut = f1.Get(\"theCut\").GetTitle()\n",
    "\n",
    "bkg = ROOT.TChain(\"skimTree\")\n",
    "bkg.Add(\"~/project/lat/latSkimDS%d*.root\"%ds)\n",
    "\n",
    "c = ROOT.TCanvas(\"c\",\"c\",800,600)\n",
    "ROOT.gPad.SetLogy(1)\n",
    "bins,lower,upper = 100,0,20\n",
    "\n",
    "# raw\n",
    "h0 = H1D(bkg,\"h0\",bins,lower,upper,\"trapENFCal\",theCut)\n",
    "h0cts = h0.Integral()\n",
    "\n",
    "# bcMax\n",
    "thisCut = theCut + \" && bcMax < %d\" % dsBcMax[ds]\n",
    "h1 = H1D(bkg,\"h1\",bins,lower,upper,\"trapENFCal\",thisCut)\n",
    "h1cts = h1.Integral()\n",
    "\n",
    "# noiseWeight\n",
    "thisCut = theCut + \" && (waveS4-waveS1)/bcMax/trapENFCal > %.2f && (waveS4-waveS1)/bcMax/trapENFCal < %.2f\" % (dsNoiseWt[ds][0],dsNoiseWt[ds][1])\n",
    "h2 = H1D(bkg,\"h2\",bins,lower,upper,\"trapENFCal\",thisCut)\n",
    "h2cts = h2.Integral()\n",
    "\n",
    "# pol2\n",
    "thisCut = theCut + \" && pol2 > %.3e && pol2 < %.3e\" % (dsPol2[ds][0],dsPol2[ds][1])\n",
    "h3 = H1D(bkg,\"h3\",bins,lower,upper,\"trapENFCal\",thisCut)\n",
    "h3cts = h3.Integral()\n",
    "\n",
    "# pol3\n",
    "thisCut = theCut + \" && pol3 > %.3e && pol3 < %.3e\" % (dsPol3[ds][0],dsPol3[ds][1])\n",
    "h4 = H1D(bkg,\"h4\",bins,lower,upper,\"trapENFCal\",thisCut)\n",
    "h4cts = h4.Integral()\n",
    "\n",
    "print \"raw %d  bcMax %d (%.2f)  noiseWeight %d (%.2f)  pol2 %d (%.2f)  pol3 %d (%.2f)\" % (h0cts,h1cts,h1cts/h0cts,h2cts,h2cts/h0cts,h3cts,h3cts/h0cts,h4cts,h4cts/h0cts)\n",
    "\n",
    "\n",
    "# -- Plot --\n",
    "h0.SetLineColor(ROOT.kBlack)\n",
    "h1.SetLineColor(ROOT.kRed)\n",
    "h2.SetLineColor(ROOT.kBlue)\n",
    "h3.SetLineColor(ROOT.kMagenta)\n",
    "h4.SetLineColor(ROOT.kCyan)\n",
    "\n",
    "h0.Draw(\"hist\")\n",
    "h1.Draw(\"hist same\")\n",
    "h2.Draw(\"hist same\")\n",
    "h3.Draw(\"hist same\")\n",
    "h4.Draw(\"hist same\")\n",
    "\n",
    "l1 = ROOT.TLegend(0.6,0.6,0.85,0.85)\n",
    "l1.AddEntry(h0,\"basic\",\"l\")\n",
    "l1.AddEntry(h1,\"bcMax\",\"l\")\n",
    "l1.AddEntry(h2,\"noiseWeight\",\"l\")\n",
    "l1.AddEntry(h3,\"pol2\",\"l\")\n",
    "l1.AddEntry(h4,\"pol3\",\"l\")\n",
    "l1.Draw(\"same\")\n",
    "\n",
    "c.Draw()"
   ]
  },
  {
   "cell_type": "code",
   "execution_count": 6,
   "metadata": {
    "collapsed": false
   },
   "outputs": [
    {
     "name": "stdout",
     "output_type": "stream",
     "text": [
      "raw 42408424  bcMax 27547135 (0.65)  noiseWeight 7204942 (0.17)  pol2 41390014 (0.98)  pol3 41120985 (0.97)\n"
     ]
    },
    {
     "name": "stderr",
     "output_type": "stream",
     "text": [
      "Warning in <TCanvas::Constructor>: Deleting canvas with same name: c\n",
      "Warning in <TFile::Init>: file /Users/wisecg/project/lat/latSkimDS5_50_20.root probably not closed, trying to recover\n",
      "Info in <TFile::Recover>: /Users/wisecg/project/lat/latSkimDS5_50_20.root, recovered key TNamed:theCut at address 61328674\n",
      "Info in <TFile::Recover>: /Users/wisecg/project/lat/latSkimDS5_50_20.root, recovered key TTree:skimTree at address 74768243\n",
      "Warning in <TFile::Init>: successfully recovered 2 keys\n",
      "Warning in <TFile::Init>: no StreamerInfo found in /Users/wisecg/project/lat/latSkimDS5_50_20.root therefore preventing schema evolution when reading this file.\n",
      "Warning in <TFile::Init>: file /Users/wisecg/project/lat/latSkimDS5_50_20.root probably not closed, trying to recover\n",
      "Info in <TFile::Recover>: /Users/wisecg/project/lat/latSkimDS5_50_20.root, recovered key TNamed:theCut at address 61328674\n",
      "Info in <TFile::Recover>: /Users/wisecg/project/lat/latSkimDS5_50_20.root, recovered key TTree:skimTree at address 74768243\n",
      "Warning in <TFile::Init>: successfully recovered 2 keys\n",
      "Warning in <TFile::Init>: no StreamerInfo found in /Users/wisecg/project/lat/latSkimDS5_50_20.root therefore preventing schema evolution when reading this file.\n",
      "Warning in <TFile::Init>: file /Users/wisecg/project/lat/latSkimDS5_50_20.root probably not closed, trying to recover\n",
      "Info in <TFile::Recover>: /Users/wisecg/project/lat/latSkimDS5_50_20.root, recovered key TNamed:theCut at address 61328674\n",
      "Info in <TFile::Recover>: /Users/wisecg/project/lat/latSkimDS5_50_20.root, recovered key TTree:skimTree at address 74768243\n",
      "Warning in <TFile::Init>: successfully recovered 2 keys\n",
      "Warning in <TFile::Init>: no StreamerInfo found in /Users/wisecg/project/lat/latSkimDS5_50_20.root therefore preventing schema evolution when reading this file.\n",
      "Warning in <TFile::Init>: file /Users/wisecg/project/lat/latSkimDS5_50_20.root probably not closed, trying to recover\n",
      "Info in <TFile::Recover>: /Users/wisecg/project/lat/latSkimDS5_50_20.root, recovered key TNamed:theCut at address 61328674\n",
      "Info in <TFile::Recover>: /Users/wisecg/project/lat/latSkimDS5_50_20.root, recovered key TTree:skimTree at address 74768243\n",
      "Warning in <TFile::Init>: successfully recovered 2 keys\n",
      "Warning in <TFile::Init>: no StreamerInfo found in /Users/wisecg/project/lat/latSkimDS5_50_20.root therefore preventing schema evolution when reading this file.\n",
      "Warning in <TFile::Init>: file /Users/wisecg/project/lat/latSkimDS5_50_20.root probably not closed, trying to recover\n",
      "Info in <TFile::Recover>: /Users/wisecg/project/lat/latSkimDS5_50_20.root, recovered key TNamed:theCut at address 61328674\n",
      "Info in <TFile::Recover>: /Users/wisecg/project/lat/latSkimDS5_50_20.root, recovered key TTree:skimTree at address 74768243\n",
      "Warning in <TFile::Init>: successfully recovered 2 keys\n",
      "Warning in <TFile::Init>: no StreamerInfo found in /Users/wisecg/project/lat/latSkimDS5_50_20.root therefore preventing schema evolution when reading this file.\n"
     ]
    },
    {
     "data": {
      "image/png": "[encoded data removed]",
      "text/plain": [
       "<IPython.core.display.Image object>"
      ]
     },
     "metadata": {},
     "output_type": "display_data"
    }
   ],
   "source": [
    "ds = 5\n",
    "f1 = ROOT.TFile(\"~/project/lat/latSkimDS%d_0_0.root\"%ds)\n",
    "theCut = f1.Get(\"theCut\").GetTitle()\n",
    "\n",
    "bkg = ROOT.TChain(\"skimTree\")\n",
    "bkg.Add(\"~/project/lat/latSkimDS%d*.root\"%ds)\n",
    "\n",
    "c = ROOT.TCanvas(\"c\",\"c\",800,600)\n",
    "ROOT.gPad.SetLogy(1)\n",
    "bins,lower,upper = 100,0,20\n",
    "\n",
    "# raw\n",
    "h0 = H1D(bkg,\"h0\",bins,lower,upper,\"trapENFCal\",theCut)\n",
    "h0cts = h0.Integral()\n",
    "\n",
    "# bcMax\n",
    "thisCut = theCut + \" && bcMax < %d\" % dsBcMax[ds]\n",
    "h1 = H1D(bkg,\"h1\",bins,lower,upper,\"trapENFCal\",thisCut)\n",
    "h1cts = h1.Integral()\n",
    "\n",
    "# noiseWeight\n",
    "thisCut = theCut + \" && (waveS4-waveS1)/bcMax/trapENFCal > %.2f && (waveS4-waveS1)/bcMax/trapENFCal < %.2f\" % (dsNoiseWt[ds][0],dsNoiseWt[ds][1])\n",
    "h2 = H1D(bkg,\"h2\",bins,lower,upper,\"trapENFCal\",thisCut)\n",
    "h2cts = h2.Integral()\n",
    "\n",
    "# pol2\n",
    "thisCut = theCut + \" && pol2 > %.3e && pol2 < %.3e\" % (dsPol2[ds][0],dsPol2[ds][1])\n",
    "h3 = H1D(bkg,\"h3\",bins,lower,upper,\"trapENFCal\",thisCut)\n",
    "h3cts = h3.Integral()\n",
    "\n",
    "# pol3\n",
    "thisCut = theCut + \" && pol3 > %.3e && pol3 < %.3e\" % (dsPol3[ds][0],dsPol3[ds][1])\n",
    "h4 = H1D(bkg,\"h4\",bins,lower,upper,\"trapENFCal\",thisCut)\n",
    "h4cts = h4.Integral()\n",
    "\n",
    "print \"raw %d  bcMax %d (%.2f)  noiseWeight %d (%.2f)  pol2 %d (%.2f)  pol3 %d (%.2f)\" % (h0cts,h1cts,h1cts/h0cts,h2cts,h2cts/h0cts,h3cts,h3cts/h0cts,h4cts,h4cts/h0cts)\n",
    "\n",
    "\n",
    "# -- Plot --\n",
    "h0.SetLineColor(ROOT.kBlack)\n",
    "h1.SetLineColor(ROOT.kRed)\n",
    "h2.SetLineColor(ROOT.kBlue)\n",
    "h3.SetLineColor(ROOT.kMagenta)\n",
    "h4.SetLineColor(ROOT.kCyan)\n",
    "\n",
    "h0.Draw(\"hist\")\n",
    "h1.Draw(\"hist same\")\n",
    "h2.Draw(\"hist same\")\n",
    "h3.Draw(\"hist same\")\n",
    "h4.Draw(\"hist same\")\n",
    "\n",
    "l1 = ROOT.TLegend(0.6,0.6,0.85,0.85)\n",
    "l1.AddEntry(h0,\"basic\",\"l\")\n",
    "l1.AddEntry(h1,\"bcMax\",\"l\")\n",
    "l1.AddEntry(h2,\"noiseWeight\",\"l\")\n",
    "l1.AddEntry(h3,\"pol2\",\"l\")\n",
    "l1.AddEntry(h4,\"pol3\",\"l\")\n",
    "l1.Draw(\"same\")\n",
    "\n",
    "c.Draw()"
   ]
  },
  {
   "cell_type": "code",
   "execution_count": 16,
   "metadata": {
    "collapsed": false
   },
   "outputs": [
    {
     "name": "stdout",
     "output_type": "stream",
     "text": [
      "raw 2305421  +noiseWeight 1713347 (0.74)  +bcMax 1710402 (1.00)  +pol2,pol3 1617529 (0.95)\n"
     ]
    },
    {
     "name": "stderr",
     "output_type": "stream",
     "text": [
      "Warning in <TCanvas::Constructor>: Deleting canvas with same name: c\n"
     ]
    },
    {
     "data": {
      "image/png": "[encoded data removed]",
      "text/plain": [
       "<IPython.core.display.Image object>"
      ]
     },
     "metadata": {},
     "output_type": "display_data"
    }
   ],
   "source": [
    "ds = 0\n",
    "bins,lower,upper = 100,0,20\n",
    "\n",
    "f1 = ROOT.TFile(\"~/project/lat/latSkimDS%d_0_0.root\"%ds)\n",
    "theCut = f1.Get(\"theCut\").GetTitle()\n",
    "\n",
    "bkg = ROOT.TChain(\"skimTree\")\n",
    "bkg.Add(\"~/project/lat/latSkimDS%d*.root\"%ds)\n",
    "\n",
    "# raw\n",
    "h0 = H1D(bkg,\"h0\",bins,lower,upper,\"trapENFCal\",theCut)\n",
    "h0cts = h0.Integral()\n",
    "\n",
    "# noiseWeight\n",
    "noiseWtCut = \" && (waveS4-waveS1)/bcMax/trapENFCal > %.2f && (waveS4-waveS1)/bcMax/trapENFCal < %.2f\" % (dsNoiseWt[ds][0],dsNoiseWt[ds][1])\n",
    "thisCut = theCut + noiseWtCut\n",
    "h1 = H1D(bkg,\"h1\",bins,lower,upper,\"trapENFCal\",thisCut)\n",
    "h1cts = h1.Integral()\n",
    "\n",
    "# bcMax\n",
    "bcMaxCut = \" && bcMax < %d\" % dsBcMax[ds]\n",
    "thisCut = theCut + noiseWtCut + bcMaxCut\n",
    "h2 = H1D(bkg,\"h2\",bins,lower,upper,\"trapENFCal\",thisCut)\n",
    "h2cts = h2.Integral()\n",
    "\n",
    "# pol2 + pol3\n",
    "pol2Cut = \" && pol2 > %.3e && pol2 < %.3e\" % (dsPol2[ds][0],dsPol2[ds][1])\n",
    "pol3Cut = \" && pol3 > %.3e && pol3 < %.3e\" % (dsPol3[ds][0],dsPol3[ds][1])\n",
    "thisCut = theCut + noiseWtCut + bcMaxCut + pol2Cut + pol3Cut\n",
    "h3 = H1D(bkg,\"h3\",bins,lower,upper,\"trapENFCal\",thisCut)\n",
    "h3cts = h3.Integral()\n",
    "\n",
    "print \"raw %d  +noiseWeight %d (%.2f)  +bcMax %d (%.2f)  +pol2,pol3 %d (%.2f)\" % (h0cts,h1cts,h1cts/h0cts,h2cts,h2cts/h1cts,h3cts,h3cts/h2cts)\n",
    "\n",
    "\n",
    "# -- Plot --\n",
    "c = ROOT.TCanvas(\"c\",\"c\",800,600)\n",
    "ROOT.gPad.SetLogy(1)\n",
    "\n",
    "h0.SetLineColor(ROOT.kBlack)\n",
    "h1.SetLineColor(ROOT.kRed)\n",
    "h2.SetLineColor(ROOT.kBlue)\n",
    "h3.SetLineColor(ROOT.kMagenta)\n",
    "\n",
    "h0.Draw(\"hist\")\n",
    "h1.Draw(\"hist same\")\n",
    "h2.Draw(\"hist same\")\n",
    "h3.Draw(\"hist same\")\n",
    "\n",
    "l1 = ROOT.TLegend(0.6,0.6,0.85,0.85)\n",
    "l1.AddEntry(h0,\"basic\",\"l\")\n",
    "l1.AddEntry(h1,\"+noiseWeight\",\"l\")\n",
    "l1.AddEntry(h2,\"+bcMax\",\"l\")\n",
    "l1.AddEntry(h3,\"+pol2&pol3\",\"l\")\n",
    "l1.Draw(\"same\")\n",
    "\n",
    "c.Draw()"
   ]
  },
  {
   "cell_type": "code",
   "execution_count": 17,
   "metadata": {
    "collapsed": false
   },
   "outputs": [
    {
     "name": "stdout",
     "output_type": "stream",
     "text": [
      "raw 42039  +noiseWeight 21983 (0.52)  +bcMax 20278 (0.92)  +pol2,pol3 15293 (0.75)\n"
     ]
    },
    {
     "name": "stderr",
     "output_type": "stream",
     "text": [
      "Warning in <TCanvas::Constructor>: Deleting canvas with same name: c\n"
     ]
    },
    {
     "data": {
      "image/png": "[encoded data removed]",
      "text/plain": [
       "<IPython.core.display.Image object>"
      ]
     },
     "metadata": {},
     "output_type": "display_data"
    }
   ],
   "source": [
    "ds = 1\n",
    "bins,lower,upper = 100,0,20\n",
    "\n",
    "f1 = ROOT.TFile(\"~/project/lat/latSkimDS%d_0_0.root\"%ds)\n",
    "theCut = f1.Get(\"theCut\").GetTitle()\n",
    "\n",
    "bkg = ROOT.TChain(\"skimTree\")\n",
    "bkg.Add(\"~/project/lat/latSkimDS%d*.root\"%ds)\n",
    "\n",
    "# raw\n",
    "h0 = H1D(bkg,\"h0\",bins,lower,upper,\"trapENFCal\",theCut)\n",
    "h0cts = h0.Integral()\n",
    "\n",
    "# noiseWeight\n",
    "noiseWtCut = \" && (waveS4-waveS1)/bcMax/trapENFCal > %.2f && (waveS4-waveS1)/bcMax/trapENFCal < %.2f\" % (dsNoiseWt[ds][0],dsNoiseWt[ds][1])\n",
    "thisCut = theCut + noiseWtCut\n",
    "h1 = H1D(bkg,\"h1\",bins,lower,upper,\"trapENFCal\",thisCut)\n",
    "h1cts = h1.Integral()\n",
    "\n",
    "# bcMax\n",
    "bcMaxCut = \" && bcMax < %d\" % dsBcMax[ds]\n",
    "thisCut = theCut + noiseWtCut + bcMaxCut\n",
    "h2 = H1D(bkg,\"h2\",bins,lower,upper,\"trapENFCal\",thisCut)\n",
    "h2cts = h2.Integral()\n",
    "\n",
    "# pol2 + pol3\n",
    "pol2Cut = \" && pol2 > %.3e && pol2 < %.3e\" % (dsPol2[ds][0],dsPol2[ds][1])\n",
    "pol3Cut = \" && pol3 > %.3e && pol3 < %.3e\" % (dsPol3[ds][0],dsPol3[ds][1])\n",
    "thisCut = theCut + noiseWtCut + bcMaxCut + pol2Cut + pol3Cut\n",
    "h3 = H1D(bkg,\"h3\",bins,lower,upper,\"trapENFCal\",thisCut)\n",
    "h3cts = h3.Integral()\n",
    "\n",
    "print \"raw %d  +noiseWeight %d (%.2f)  +bcMax %d (%.2f)  +pol2,pol3 %d (%.2f)\" % (h0cts,h1cts,h1cts/h0cts,h2cts,h2cts/h1cts,h3cts,h3cts/h2cts)\n",
    "\n",
    "\n",
    "# -- Plot --\n",
    "c = ROOT.TCanvas(\"c\",\"c\",800,600)\n",
    "ROOT.gPad.SetLogy(1)\n",
    "\n",
    "h0.SetLineColor(ROOT.kBlack)\n",
    "h1.SetLineColor(ROOT.kRed)\n",
    "h2.SetLineColor(ROOT.kBlue)\n",
    "h3.SetLineColor(ROOT.kMagenta)\n",
    "\n",
    "h0.Draw(\"hist\")\n",
    "h1.Draw(\"hist same\")\n",
    "h2.Draw(\"hist same\")\n",
    "h3.Draw(\"hist same\")\n",
    "\n",
    "l1 = ROOT.TLegend(0.6,0.6,0.85,0.85)\n",
    "l1.AddEntry(h0,\"basic\",\"l\")\n",
    "l1.AddEntry(h1,\"+noiseWeight\",\"l\")\n",
    "l1.AddEntry(h2,\"+bcMax\",\"l\")\n",
    "l1.AddEntry(h3,\"+pol2&pol3\",\"l\")\n",
    "l1.Draw(\"same\")\n",
    "\n",
    "c.Draw()"
   ]
  },
  {
   "cell_type": "code",
   "execution_count": 18,
   "metadata": {
    "collapsed": false
   },
   "outputs": [
    {
     "name": "stdout",
     "output_type": "stream",
     "text": [
      "raw 2081200  +noiseWeight 692444 (0.33)  +bcMax 682456 (0.99)  +pol2,pol3 673179 (0.99)\n"
     ]
    },
    {
     "name": "stderr",
     "output_type": "stream",
     "text": [
      "Warning in <TCanvas::Constructor>: Deleting canvas with same name: c\n"
     ]
    },
    {
     "data": {
      "image/png": "[encoded data removed]",
      "text/plain": [
       "<IPython.core.display.Image object>"
      ]
     },
     "metadata": {},
     "output_type": "display_data"
    }
   ],
   "source": [
    "ds = 3\n",
    "bins,lower,upper = 100,0,20\n",
    "\n",
    "f1 = ROOT.TFile(\"~/project/lat/latSkimDS%d_0_0.root\"%ds)\n",
    "theCut = f1.Get(\"theCut\").GetTitle()\n",
    "\n",
    "bkg = ROOT.TChain(\"skimTree\")\n",
    "bkg.Add(\"~/project/lat/latSkimDS%d*.root\"%ds)\n",
    "\n",
    "# raw\n",
    "h0 = H1D(bkg,\"h0\",bins,lower,upper,\"trapENFCal\",theCut)\n",
    "h0cts = h0.Integral()\n",
    "\n",
    "# noiseWeight\n",
    "noiseWtCut = \" && (waveS4-waveS1)/bcMax/trapENFCal > %.2f && (waveS4-waveS1)/bcMax/trapENFCal < %.2f\" % (dsNoiseWt[ds][0],dsNoiseWt[ds][1])\n",
    "thisCut = theCut + noiseWtCut\n",
    "h1 = H1D(bkg,\"h1\",bins,lower,upper,\"trapENFCal\",thisCut)\n",
    "h1cts = h1.Integral()\n",
    "\n",
    "# bcMax\n",
    "bcMaxCut = \" && bcMax < %d\" % dsBcMax[ds]\n",
    "thisCut = theCut + noiseWtCut + bcMaxCut\n",
    "h2 = H1D(bkg,\"h2\",bins,lower,upper,\"trapENFCal\",thisCut)\n",
    "h2cts = h2.Integral()\n",
    "\n",
    "# pol2 + pol3\n",
    "pol2Cut = \" && pol2 > %.3e && pol2 < %.3e\" % (dsPol2[ds][0],dsPol2[ds][1])\n",
    "pol3Cut = \" && pol3 > %.3e && pol3 < %.3e\" % (dsPol3[ds][0],dsPol3[ds][1])\n",
    "thisCut = theCut + noiseWtCut + bcMaxCut + pol2Cut + pol3Cut\n",
    "h3 = H1D(bkg,\"h3\",bins,lower,upper,\"trapENFCal\",thisCut)\n",
    "h3cts = h3.Integral()\n",
    "\n",
    "print \"raw %d  +noiseWeight %d (%.2f)  +bcMax %d (%.2f)  +pol2,pol3 %d (%.2f)\" % (h0cts,h1cts,h1cts/h0cts,h2cts,h2cts/h1cts,h3cts,h3cts/h2cts)\n",
    "\n",
    "\n",
    "# -- Plot --\n",
    "c = ROOT.TCanvas(\"c\",\"c\",800,600)\n",
    "ROOT.gPad.SetLogy(1)\n",
    "\n",
    "h0.SetLineColor(ROOT.kBlack)\n",
    "h1.SetLineColor(ROOT.kRed)\n",
    "h2.SetLineColor(ROOT.kBlue)\n",
    "h3.SetLineColor(ROOT.kMagenta)\n",
    "\n",
    "h0.Draw(\"hist\")\n",
    "h1.Draw(\"hist same\")\n",
    "h2.Draw(\"hist same\")\n",
    "h3.Draw(\"hist same\")\n",
    "\n",
    "l1 = ROOT.TLegend(0.6,0.6,0.85,0.85)\n",
    "l1.AddEntry(h0,\"basic\",\"l\")\n",
    "l1.AddEntry(h1,\"+noiseWeight\",\"l\")\n",
    "l1.AddEntry(h2,\"+bcMax\",\"l\")\n",
    "l1.AddEntry(h3,\"+pol2&pol3\",\"l\")\n",
    "l1.Draw(\"same\")\n",
    "\n",
    "c.Draw()"
   ]
  },
  {
   "cell_type": "code",
   "execution_count": 19,
   "metadata": {
    "collapsed": false
   },
   "outputs": [
    {
     "name": "stdout",
     "output_type": "stream",
     "text": [
      "raw 753553  +noiseWeight 149562 (0.20)  +bcMax 143243 (0.96)  +pol2,pol3 106446 (0.74)\n"
     ]
    },
    {
     "name": "stderr",
     "output_type": "stream",
     "text": [
      "Warning in <TCanvas::Constructor>: Deleting canvas with same name: c\n"
     ]
    },
    {
     "data": {
      "image/png": "[encoded data removed]",
      "text/plain": [
       "<IPython.core.display.Image object>"
      ]
     },
     "metadata": {},
     "output_type": "display_data"
    }
   ],
   "source": [
    "ds = 4\n",
    "bins,lower,upper = 100,0,20\n",
    "\n",
    "f1 = ROOT.TFile(\"~/project/lat/latSkimDS%d_0_0.root\"%ds)\n",
    "theCut = f1.Get(\"theCut\").GetTitle()\n",
    "\n",
    "bkg = ROOT.TChain(\"skimTree\")\n",
    "bkg.Add(\"~/project/lat/latSkimDS%d*.root\"%ds)\n",
    "\n",
    "# raw\n",
    "h0 = H1D(bkg,\"h0\",bins,lower,upper,\"trapENFCal\",theCut)\n",
    "h0cts = h0.Integral()\n",
    "\n",
    "# noiseWeight\n",
    "noiseWtCut = \" && (waveS4-waveS1)/bcMax/trapENFCal > %.2f && (waveS4-waveS1)/bcMax/trapENFCal < %.2f\" % (dsNoiseWt[ds][0],dsNoiseWt[ds][1])\n",
    "thisCut = theCut + noiseWtCut\n",
    "h1 = H1D(bkg,\"h1\",bins,lower,upper,\"trapENFCal\",thisCut)\n",
    "h1cts = h1.Integral()\n",
    "\n",
    "# bcMax\n",
    "bcMaxCut = \" && bcMax < %d\" % dsBcMax[ds]\n",
    "thisCut = theCut + noiseWtCut + bcMaxCut\n",
    "h2 = H1D(bkg,\"h2\",bins,lower,upper,\"trapENFCal\",thisCut)\n",
    "h2cts = h2.Integral()\n",
    "\n",
    "# pol2 + pol3\n",
    "pol2Cut = \" && pol2 > %.3e && pol2 < %.3e\" % (dsPol2[ds][0],dsPol2[ds][1])\n",
    "pol3Cut = \" && pol3 > %.3e && pol3 < %.3e\" % (dsPol3[ds][0],dsPol3[ds][1])\n",
    "thisCut = theCut + noiseWtCut + bcMaxCut + pol2Cut + pol3Cut\n",
    "h3 = H1D(bkg,\"h3\",bins,lower,upper,\"trapENFCal\",thisCut)\n",
    "h3cts = h3.Integral()\n",
    "\n",
    "print \"raw %d  +noiseWeight %d (%.2f)  +bcMax %d (%.2f)  +pol2,pol3 %d (%.2f)\" % (h0cts,h1cts,h1cts/h0cts,h2cts,h2cts/h1cts,h3cts,h3cts/h2cts)\n",
    "\n",
    "\n",
    "# -- Plot --\n",
    "c = ROOT.TCanvas(\"c\",\"c\",800,600)\n",
    "ROOT.gPad.SetLogy(1)\n",
    "\n",
    "h0.SetLineColor(ROOT.kBlack)\n",
    "h1.SetLineColor(ROOT.kRed)\n",
    "h2.SetLineColor(ROOT.kBlue)\n",
    "h3.SetLineColor(ROOT.kMagenta)\n",
    "\n",
    "h0.Draw(\"hist\")\n",
    "h1.Draw(\"hist same\")\n",
    "h2.Draw(\"hist same\")\n",
    "h3.Draw(\"hist same\")\n",
    "\n",
    "l1 = ROOT.TLegend(0.6,0.6,0.85,0.85)\n",
    "l1.AddEntry(h0,\"basic\",\"l\")\n",
    "l1.AddEntry(h1,\"+noiseWeight\",\"l\")\n",
    "l1.AddEntry(h2,\"+bcMax\",\"l\")\n",
    "l1.AddEntry(h3,\"+pol2&pol3\",\"l\")\n",
    "l1.Draw(\"same\")\n",
    "\n",
    "c.Draw()"
   ]
  },
  {
   "cell_type": "code",
   "execution_count": 20,
   "metadata": {
    "collapsed": false
   },
   "outputs": [
    {
     "name": "stdout",
     "output_type": "stream",
     "text": [
      "raw 42408424  +noiseWeight 7204942 (0.17)  +bcMax 7058432 (0.98)  +pol2,pol3 6724559 (0.95)\n"
     ]
    },
    {
     "name": "stderr",
     "output_type": "stream",
     "text": [
      "Warning in <TFile::Init>: file /Users/wisecg/project/lat/latSkimDS5_50_20.root probably not closed, trying to recover\n",
      "Info in <TFile::Recover>: /Users/wisecg/project/lat/latSkimDS5_50_20.root, recovered key TNamed:theCut at address 61328674\n",
      "Info in <TFile::Recover>: /Users/wisecg/project/lat/latSkimDS5_50_20.root, recovered key TTree:skimTree at address 74768243\n",
      "Warning in <TFile::Init>: successfully recovered 2 keys\n",
      "Warning in <TFile::Init>: no StreamerInfo found in /Users/wisecg/project/lat/latSkimDS5_50_20.root therefore preventing schema evolution when reading this file.\n",
      "Warning in <TFile::Init>: file /Users/wisecg/project/lat/latSkimDS5_50_20.root probably not closed, trying to recover\n",
      "Info in <TFile::Recover>: /Users/wisecg/project/lat/latSkimDS5_50_20.root, recovered key TNamed:theCut at address 61328674\n",
      "Info in <TFile::Recover>: /Users/wisecg/project/lat/latSkimDS5_50_20.root, recovered key TTree:skimTree at address 74768243\n",
      "Warning in <TFile::Init>: successfully recovered 2 keys\n",
      "Warning in <TFile::Init>: no StreamerInfo found in /Users/wisecg/project/lat/latSkimDS5_50_20.root therefore preventing schema evolution when reading this file.\n",
      "Warning in <TFile::Init>: file /Users/wisecg/project/lat/latSkimDS5_50_20.root probably not closed, trying to recover\n",
      "Info in <TFile::Recover>: /Users/wisecg/project/lat/latSkimDS5_50_20.root, recovered key TNamed:theCut at address 61328674\n",
      "Info in <TFile::Recover>: /Users/wisecg/project/lat/latSkimDS5_50_20.root, recovered key TTree:skimTree at address 74768243\n",
      "Warning in <TFile::Init>: successfully recovered 2 keys\n",
      "Warning in <TFile::Init>: no StreamerInfo found in /Users/wisecg/project/lat/latSkimDS5_50_20.root therefore preventing schema evolution when reading this file.\n",
      "Warning in <TFile::Init>: file /Users/wisecg/project/lat/latSkimDS5_50_20.root probably not closed, trying to recover\n",
      "Info in <TFile::Recover>: /Users/wisecg/project/lat/latSkimDS5_50_20.root, recovered key TNamed:theCut at address 61328674\n",
      "Info in <TFile::Recover>: /Users/wisecg/project/lat/latSkimDS5_50_20.root, recovered key TTree:skimTree at address 74768243\n",
      "Warning in <TFile::Init>: successfully recovered 2 keys\n",
      "Warning in <TFile::Init>: no StreamerInfo found in /Users/wisecg/project/lat/latSkimDS5_50_20.root therefore preventing schema evolution when reading this file.\n",
      "Warning in <TCanvas::Constructor>: Deleting canvas with same name: c\n"
     ]
    },
    {
     "data": {
      "image/png": "[encoded data removed]",
      "text/plain": [
       "<IPython.core.display.Image object>"
      ]
     },
     "metadata": {},
     "output_type": "display_data"
    }
   ],
   "source": [
    "ds = 5\n",
    "bins,lower,upper = 100,0,20\n",
    "\n",
    "f1 = ROOT.TFile(\"~/project/lat/latSkimDS%d_0_0.root\"%ds)\n",
    "theCut = f1.Get(\"theCut\").GetTitle()\n",
    "\n",
    "bkg = ROOT.TChain(\"skimTree\")\n",
    "bkg.Add(\"~/project/lat/latSkimDS%d*.root\"%ds)\n",
    "\n",
    "# raw\n",
    "h0 = H1D(bkg,\"h0\",bins,lower,upper,\"trapENFCal\",theCut)\n",
    "h0cts = h0.Integral()\n",
    "\n",
    "# noiseWeight\n",
    "noiseWtCut = \" && (waveS4-waveS1)/bcMax/trapENFCal > %.2f && (waveS4-waveS1)/bcMax/trapENFCal < %.2f\" % (dsNoiseWt[ds][0],dsNoiseWt[ds][1])\n",
    "thisCut = theCut + noiseWtCut\n",
    "h1 = H1D(bkg,\"h1\",bins,lower,upper,\"trapENFCal\",thisCut)\n",
    "h1cts = h1.Integral()\n",
    "\n",
    "# bcMax\n",
    "bcMaxCut = \" && bcMax < %d\" % dsBcMax[ds]\n",
    "thisCut = theCut + noiseWtCut + bcMaxCut\n",
    "h2 = H1D(bkg,\"h2\",bins,lower,upper,\"trapENFCal\",thisCut)\n",
    "h2cts = h2.Integral()\n",
    "\n",
    "# pol2 + pol3\n",
    "pol2Cut = \" && pol2 > %.3e && pol2 < %.3e\" % (dsPol2[ds][0],dsPol2[ds][1])\n",
    "pol3Cut = \" && pol3 > %.3e && pol3 < %.3e\" % (dsPol3[ds][0],dsPol3[ds][1])\n",
    "thisCut = theCut + noiseWtCut + bcMaxCut + pol2Cut + pol3Cut\n",
    "h3 = H1D(bkg,\"h3\",bins,lower,upper,\"trapENFCal\",thisCut)\n",
    "h3cts = h3.Integral()\n",
    "\n",
    "print \"raw %d  +noiseWeight %d (%.2f)  +bcMax %d (%.2f)  +pol2,pol3 %d (%.2f)\" % (h0cts,h1cts,h1cts/h0cts,h2cts,h2cts/h1cts,h3cts,h3cts/h2cts)\n",
    "\n",
    "\n",
    "# -- Plot --\n",
    "c = ROOT.TCanvas(\"c\",\"c\",800,600)\n",
    "ROOT.gPad.SetLogy(1)\n",
    "\n",
    "h0.SetLineColor(ROOT.kBlack)\n",
    "h1.SetLineColor(ROOT.kRed)\n",
    "h2.SetLineColor(ROOT.kBlue)\n",
    "h3.SetLineColor(ROOT.kMagenta)\n",
    "\n",
    "h0.Draw(\"hist\")\n",
    "h1.Draw(\"hist same\")\n",
    "h2.Draw(\"hist same\")\n",
    "h3.Draw(\"hist same\")\n",
    "\n",
    "l1 = ROOT.TLegend(0.6,0.6,0.85,0.85)\n",
    "l1.AddEntry(h0,\"basic\",\"l\")\n",
    "l1.AddEntry(h1,\"+noiseWeight\",\"l\")\n",
    "l1.AddEntry(h2,\"+bcMax\",\"l\")\n",
    "l1.AddEntry(h3,\"+pol2&pol3\",\"l\")\n",
    "l1.Draw(\"same\")\n",
    "\n",
    "c.Draw()"
   ]
  },
  {
   "cell_type": "code",
   "execution_count": null,
   "metadata": {
    "collapsed": true
   },
   "outputs": [],
   "source": []
  }
 ],
 "metadata": {
  "kernelspec": {
   "display_name": "Python [default]",
   "language": "python",
   "name": "python2"
  },
  "language_info": {
   "codemirror_mode": {
    "name": "ipython",
    "version": 2
   },
   "file_extension": ".py",
   "mimetype": "text/x-python",
   "name": "python",
   "nbconvert_exporter": "python",
   "pygments_lexer": "ipython2",
   "version": "2.7.13"
  }
 },
 "nbformat": 4,
 "nbformat_minor": 2
}
