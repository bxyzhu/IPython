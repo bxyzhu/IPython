{
 "cells": [
  {
   "cell_type": "code",
   "execution_count": 1,
   "metadata": {
    "collapsed": false
   },
   "outputs": [
    {
     "data": {
      "application/javascript": [
       "\n",
       "require(['notebook'],\n",
       "  function() {\n",
       "    IPython.CodeCell.config_defaults.highlight_modes['magic_text/x-c++src'] = {'reg':[/^%%cpp/]};\n",
       "    console.log(\"JupyROOT - %%cpp magic configured\");\n",
       "  }\n",
       ");\n"
      ]
     },
     "metadata": {},
     "output_type": "display_data"
    },
    {
     "name": "stdout",
     "output_type": "stream",
     "text": [
      "Welcome to JupyROOT 6.08/06\n"
     ]
    },
    {
     "data": {
      "text/plain": [
       "3001L"
      ]
     },
     "execution_count": 1,
     "metadata": {},
     "output_type": "execute_result"
    }
   ],
   "source": [
    "import ROOT, random, glob, os\n",
    "import numpy as np\n",
    "import matplotlib.pyplot as plt\n",
    "import scipy.special as sp\n",
    "import DataSetInfo as ds\n",
    "import waveLibs as wl\n",
    "ROOT.gROOT.ProcessLine(\"gErrorIgnoreLevel = 3001;\") # suppress ROOT messages"
   ]
  },
  {
   "cell_type": "code",
   "execution_count": 24,
   "metadata": {
    "collapsed": false,
    "scrolled": false
   },
   "outputs": [
    {
     "name": "stdout",
     "output_type": "stream",
     "text": [
      "noiseRate 1.0\n",
      "trapENFCal>1&&trapENFCal<100\n",
      "Noisy Runs and rates: [ 60001001.  60001002.  60001011.  60001078.  60001121.  60001177.\n",
      "  60001178.  60001184.  60001463.  60001469.  60001471.  60001477.\n",
      "  60001492.  60001498.  60001692.  60001698.  60001797.  60001827.\n",
      "  60001838.  60001847.  60001848.  60001881.  60001882.] [   25.    24.    28.    36.   695.    38.    41.    23.    23.    22.\n",
      "    21.    22.    21.    24.  4180.    36.   789.   222.    21.   725.\n",
      "    37.   224.    47.]\n",
      "Run:  60001001.0\n",
      "Noisy channels: [ 1106.] [ 21.]\n",
      "Run:  60001002.0\n",
      "Noisy channels: [ 1106.] [ 17.]\n",
      "Run:  60001011.0\n",
      "Noisy channels: [ 1106.  1298.] [ 20.   4.]\n",
      "Run:  60001078.0\n",
      "Noisy channels: [ 1144.] [ 28.]\n",
      "Run:  60001121.0\n",
      "Noisy channels: [ 1144.] [ 692.]\n",
      "Run:  60001177.0\n",
      "Noisy channels: [ 1144.] [ 28.]\n",
      "Run:  60001178.0\n",
      "Noisy channels: [ 1106.  1144.] [  7.  30.]\n",
      "Run:  60001184.0\n",
      "Noisy channels: [ 1144.] [ 18.]\n",
      "Run:  60001463.0\n",
      "Noisy channels: [ 1106.] [ 15.]\n",
      "Run:  60001469.0\n",
      "Noisy channels: [ 1106.] [ 16.]\n",
      "Run:  60001471.0\n",
      "Noisy channels: [ 1106.] [ 12.]\n",
      "Run:  60001477.0\n",
      "Noisy channels: [ 1106.] [ 15.]\n",
      "Run:  60001492.0\n",
      "Noisy channels: [ 1106.] [ 18.]\n",
      "Run:  60001498.0\n",
      "Noisy channels: [ 1106.  1298.] [ 12.   5.]\n",
      "Run:  60001692.0\n",
      "Noisy channels: [ 1144.] [ 4176.]\n",
      "Run:  60001698.0\n",
      "Noisy channels: [ 1106.] [ 33.]\n",
      "Run:  60001797.0\n",
      "Noisy channels: [ 1144.] [ 781.]\n",
      "Run:  60001827.0\n",
      "Noisy channels: [ 1144.] [ 221.]\n",
      "Run:  60001838.0\n",
      "Noisy channels: [ 1106.] [ 14.]\n",
      "Run:  60001847.0\n",
      "Noisy channels: [ 1106.] [ 720.]\n",
      "Run:  60001848.0\n",
      "Noisy channels: [ 1106.] [ 35.]\n",
      "Run:  60001881.0\n",
      "Noisy channels: [ 1106.] [ 222.]\n",
      "Run:  60001882.0\n",
      "Noisy channels: [ 1106.] [ 46.]\n",
      "trapENFCal>1&&trapENFCal<100&&!(run==60001001&&(channel==1106))&&!(run==60001002&&(channel==1106))&&!(run==60001011&&(channel==1106||channel==1298))&&!(run==60001078&&(channel==1144))&&!(run==60001121&&(channel==1144))&&!(run==60001177&&(channel==1144))&&!(run==60001178&&(channel==1106||channel==1144))&&!(run==60001184&&(channel==1144))&&!(run==60001463&&(channel==1106))&&!(run==60001469&&(channel==1106))&&!(run==60001471&&(channel==1106))&&!(run==60001477&&(channel==1106))&&!(run==60001492&&(channel==1106))&&!(run==60001498&&(channel==1106||channel==1298))&&!(run==60001692&&(channel==1144))&&!(run==60001698&&(channel==1106))&&!(run==60001797&&(channel==1144))&&!(run==60001827&&(channel==1144))&&!(run==60001838&&(channel==1106))&&!(run==60001847&&(channel==1106))&&!(run==60001848&&(channel==1106))&&!(run==60001881&&(channel==1106))&&!(run==60001882&&(channel==1106))\n"
     ]
    },
    {
     "data": {
      "image/png": "[encoded data removed]",
      "text/plain": [
       "<IPython.core.display.Image object>"
      ]
     },
     "metadata": {},
     "output_type": "display_data"
    }
   ],
   "source": [
    "dsNum = 4\n",
    "ROOT.gStyle.SetOptStat(0)\n",
    "\n",
    "chList = ds.GetGoodChanList(dsNum)\n",
    "nChans = len(chList)\n",
    "avgRate = 100\n",
    "noiseRate = float(10*(nChans)/avgRate)\n",
    "print \"noiseRate\", noiseRate\n",
    "noiseRate = 3.\n",
    "\n",
    "bkg = ROOT.TChain(\"skimTree\")\n",
    "# bkg.Add(\"~/project/latskim/latSkimDS%d*.root\"%dsNum)\n",
    "for ch in chList:\n",
    "    if ch == 1332: continue\n",
    "    bkg.Add(\"~/project/latskim/latSkimDS%d_ch%d*.root\"%(dsNum, ch))\n",
    "\n",
    "theCut = \"trapENFCal>1&&trapENFCal<100\"\n",
    "# theCut += \"&& run!=22428  && run!=22461  && run!=22494\"\n",
    "# theCut += \"&& channel!=614 && channel!=1298 && channel!=1124 && channel!=1302 && channel!=1330 && channel!=1332\"\n",
    "# theCut += \"&& channel != 1208\"\n",
    "# theCut += \"&& channel!=598 && channel!=614 && channel != 1106 && channel != 1124 && channel!=1298  &&channel!=1302  && channel!=1330  && channel!=1332\"\n",
    "\n",
    "print theCut\n",
    "c = ROOT.TCanvas(\"c\",\"c\",1800,600)\n",
    "c.Divide(2,1,0)\n",
    "\n",
    "c.cd(1)\n",
    "ROOT.gPad.SetLogy(1)\n",
    "rlo, rhi = ds.dsRanges[dsNum][0], ds.dsRanges[dsNum][1]\n",
    "\n",
    "h1 = wl.H1D(bkg,rhi-rlo,rlo,rhi,\"run\",theCut,\"Run Number\",\"Counts\")\n",
    "h1.SetLineColor(ROOT.kBlack)\n",
    "h1.Draw()\n",
    "\n",
    "runs,rates = wl.npTH1D(h1, \"i\")\n",
    "idx = np.where(rates > 20)\n",
    "print \"Noisy Runs and rates:\", runs[idx], rates[idx]\n",
    "\n",
    "c.cd(2)\n",
    "ROOT.gPad.SetLogy(1)\n",
    "h4 = wl.H1D(bkg,300,0,100,\"trapENFCal\",theCut,\"trapENFCal\",\"Counts\")\n",
    "h4.SetLineColor(ROOT.kBlack)\n",
    "h4.Draw()\n",
    "\n",
    "\n",
    "hList = []\n",
    "totalCut = \"\"\n",
    "for i, run in enumerate(runs[idx]):\n",
    "    hList.append(ROOT.TH1D)\n",
    "    hList[i] = wl.H1D(bkg,785,550,1335,\"channel\",theCut+\"&& run == %d\"%run,\"channel\",\"Counts\")\n",
    "    chans,rates = wl.npTH1D(hList[i], \"i\")\n",
    "    idx2 = np.where(rates > noiseRate)\n",
    "    print \"Run: \", run\n",
    "    print \"Noisy channels:\", chans[idx2], rates[idx2]\n",
    "    ChStr = \"\"\n",
    "    NoiseCut = \"\"\n",
    "    for ch in chans[idx2]:\n",
    "        ChStr += \"channel==%d||\"%ch\n",
    "    # When combining the channel string, remove the last 2 characters\n",
    "    NoiseCut += \"&&!(run==%d&&(%s))\"%(run, ChStr[:-2])\n",
    "    \n",
    "#     print NoiseCut\n",
    "    totalCut += NoiseCut\n",
    "    \n",
    "# print totalCut\n",
    "theCut += totalCut\n",
    "print theCut\n",
    "\n",
    "h5 = wl.H1D(bkg,300,0,100,\"trapENFCal\",theCut,\"trapENFCal\",\"Counts\")\n",
    "h5.SetLineColor(ROOT.kRed)\n",
    "h5.Draw(\"same\")\n",
    "\n",
    "c.cd(1)\n",
    "ROOT.gPad.SetLogy(1)\n",
    "h7 = wl.H1D(bkg,rhi-rlo,rlo,rhi,\"run\",theCut,\"Run Number\",\"Counts\")\n",
    "h7.SetLineColor(ROOT.kRed)\n",
    "h7.Draw(\"same\")\n",
    "\n",
    "# chans,rates = wl.npTH1D(h7, \"i\")\n",
    "# idx = np.where(rates > 1000)\n",
    "# print \"Noisy channels:\", chans[idx], rates[idx]\n",
    "\n",
    "c.Draw()"
   ]
  },
  {
   "cell_type": "code",
   "execution_count": null,
   "metadata": {
    "collapsed": true
   },
   "outputs": [],
   "source": []
  }
 ],
 "metadata": {
  "kernelspec": {
   "display_name": "Python [conda root]",
   "language": "python",
   "name": "conda-root-py"
  },
  "language_info": {
   "codemirror_mode": {
    "name": "ipython",
    "version": 2
   },
   "file_extension": ".py",
   "mimetype": "text/x-python",
   "name": "python",
   "nbconvert_exporter": "python",
   "pygments_lexer": "ipython2",
   "version": "2.7.13"
  }
 },
 "nbformat": 4,
 "nbformat_minor": 2
}
