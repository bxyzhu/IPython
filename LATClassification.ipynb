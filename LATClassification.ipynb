{
 "cells": [
  {
   "cell_type": "code",
   "execution_count": 1,
   "metadata": {
    "collapsed": true
   },
   "outputs": [],
   "source": [
    "import numpy as np\n",
    "import pandas as pd\n",
    "import glob\n",
    "\n",
    "# visualization\n",
    "import seaborn as sns\n",
    "import matplotlib\n",
    "import matplotlib.pyplot as plt\n",
    "%matplotlib inline\n",
    "\n",
    "sns.set_style('whitegrid') # Style style so background is white"
   ]
  },
  {
   "cell_type": "code",
   "execution_count": 2,
   "metadata": {
    "collapsed": false
   },
   "outputs": [
    {
     "name": "stdout",
     "output_type": "stream",
     "text": [
      "/Users/brianzhu/project/Pandas/ForceTrigger/latSkimDS0_run7238.h5\n",
      "/Users/brianzhu/project/Pandas/ForceTrigger/latSkimDS0_run7239.h5\n",
      "/Users/brianzhu/project/Pandas/ForceTrigger/latSkimDS0_run7240.h5\n",
      "/Users/brianzhu/project/Pandas/ForceTrigger/latSkimDS0_run7241.h5\n",
      "/Users/brianzhu/project/Pandas/ForceTrigger/latSkimDS0_run7242.h5\n",
      "/Users/brianzhu/project/Pandas/ForceTrigger/latSkimDS0_run7243.h5\n",
      "/Users/brianzhu/project/Pandas/ForceTrigger/latSkimDS0_run7244.h5\n",
      "/Users/brianzhu/project/Pandas/ForceTrigger/latSkimDS0_run7250.h5\n",
      "/Users/brianzhu/project/Pandas/ForceTrigger/latSkimDS0_run7251.h5\n",
      "/Users/brianzhu/project/Pandas/ForceTrigger/latSkimDS0_run7252.h5\n",
      "/Users/brianzhu/project/Pandas/ForceTrigger/latSkimDS0_run7253.h5\n",
      "/Users/brianzhu/project/Pandas/ForceTrigger/latSkimDS0_run7254.h5\n",
      "/Users/brianzhu/project/Pandas/ForceTrigger/latSkimDS0_run7255.h5\n",
      "/Users/brianzhu/project/Pandas/ForceTrigger/latSkimDS0_run7256.h5\n",
      "/Users/brianzhu/project/Pandas/ForceTrigger/latSkimDS0_run7257.h5\n"
     ]
    },
    {
     "data": {
      "text/html": [
       "<div>\n",
       "<table border=\"1\" class=\"dataframe\">\n",
       "  <thead>\n",
       "    <tr style=\"text-align: right;\">\n",
       "      <th></th>\n",
       "      <th>C</th>\n",
       "      <th>bandMax</th>\n",
       "      <th>bandTime</th>\n",
       "      <th>bcMax</th>\n",
       "      <th>bcMin</th>\n",
       "      <th>channel</th>\n",
       "      <th>den10</th>\n",
       "      <th>den50</th>\n",
       "      <th>den90</th>\n",
       "      <th>derivMax</th>\n",
       "      <th>...</th>\n",
       "      <th>trapENMCal</th>\n",
       "      <th>trapENMSample</th>\n",
       "      <th>triggerTrapt0</th>\n",
       "      <th>waveS0</th>\n",
       "      <th>waveS1</th>\n",
       "      <th>waveS2</th>\n",
       "      <th>waveS3</th>\n",
       "      <th>waveS4</th>\n",
       "      <th>waveS5</th>\n",
       "      <th>wpar4</th>\n",
       "    </tr>\n",
       "  </thead>\n",
       "  <tbody>\n",
       "    <tr>\n",
       "      <th>0</th>\n",
       "      <td>1.0</td>\n",
       "      <td>39.434251</td>\n",
       "      <td>10100.0</td>\n",
       "      <td>399.728008</td>\n",
       "      <td>245.751146</td>\n",
       "      <td>624.0</td>\n",
       "      <td>9673.330711</td>\n",
       "      <td>9800.096284</td>\n",
       "      <td>10039.575915</td>\n",
       "      <td>52.920119</td>\n",
       "      <td>...</td>\n",
       "      <td>21.424156</td>\n",
       "      <td>1525.0</td>\n",
       "      <td>6078.201582</td>\n",
       "      <td>12973.446235</td>\n",
       "      <td>72.040276</td>\n",
       "      <td>798.694930</td>\n",
       "      <td>6425.600834</td>\n",
       "      <td>5677.110196</td>\n",
       "      <td>2450.922774</td>\n",
       "      <td>213.656008</td>\n",
       "    </tr>\n",
       "    <tr>\n",
       "      <th>1</th>\n",
       "      <td>1.0</td>\n",
       "      <td>39.301239</td>\n",
       "      <td>10090.0</td>\n",
       "      <td>444.433538</td>\n",
       "      <td>225.906266</td>\n",
       "      <td>624.0</td>\n",
       "      <td>9657.767812</td>\n",
       "      <td>9787.441418</td>\n",
       "      <td>10039.332668</td>\n",
       "      <td>53.266500</td>\n",
       "      <td>...</td>\n",
       "      <td>21.565236</td>\n",
       "      <td>1521.0</td>\n",
       "      <td>6045.825839</td>\n",
       "      <td>13004.873357</td>\n",
       "      <td>73.745833</td>\n",
       "      <td>799.983960</td>\n",
       "      <td>6462.396693</td>\n",
       "      <td>5668.746872</td>\n",
       "      <td>2410.276246</td>\n",
       "      <td>216.211289</td>\n",
       "    </tr>\n",
       "    <tr>\n",
       "      <th>2</th>\n",
       "      <td>1.0</td>\n",
       "      <td>40.053721</td>\n",
       "      <td>10090.0</td>\n",
       "      <td>500.491057</td>\n",
       "      <td>255.908987</td>\n",
       "      <td>624.0</td>\n",
       "      <td>9663.999893</td>\n",
       "      <td>9789.627640</td>\n",
       "      <td>10013.413052</td>\n",
       "      <td>53.199570</td>\n",
       "      <td>...</td>\n",
       "      <td>21.537975</td>\n",
       "      <td>1509.0</td>\n",
       "      <td>6071.494214</td>\n",
       "      <td>13040.375247</td>\n",
       "      <td>98.498032</td>\n",
       "      <td>808.167085</td>\n",
       "      <td>6442.317166</td>\n",
       "      <td>5691.392965</td>\n",
       "      <td>2593.577844</td>\n",
       "      <td>210.920976</td>\n",
       "    </tr>\n",
       "    <tr>\n",
       "      <th>3</th>\n",
       "      <td>1.0</td>\n",
       "      <td>39.199651</td>\n",
       "      <td>10080.0</td>\n",
       "      <td>389.936179</td>\n",
       "      <td>257.513630</td>\n",
       "      <td>624.0</td>\n",
       "      <td>9672.812473</td>\n",
       "      <td>9795.681627</td>\n",
       "      <td>10014.591145</td>\n",
       "      <td>53.208878</td>\n",
       "      <td>...</td>\n",
       "      <td>21.541767</td>\n",
       "      <td>1494.0</td>\n",
       "      <td>6051.816543</td>\n",
       "      <td>13046.127839</td>\n",
       "      <td>68.218610</td>\n",
       "      <td>787.478830</td>\n",
       "      <td>6472.577935</td>\n",
       "      <td>5717.852464</td>\n",
       "      <td>2421.943131</td>\n",
       "      <td>212.393408</td>\n",
       "    </tr>\n",
       "    <tr>\n",
       "      <th>4</th>\n",
       "      <td>1.0</td>\n",
       "      <td>39.150821</td>\n",
       "      <td>10110.0</td>\n",
       "      <td>418.698311</td>\n",
       "      <td>246.170113</td>\n",
       "      <td>624.0</td>\n",
       "      <td>9694.809043</td>\n",
       "      <td>9821.111276</td>\n",
       "      <td>10053.163706</td>\n",
       "      <td>53.618902</td>\n",
       "      <td>...</td>\n",
       "      <td>21.708769</td>\n",
       "      <td>1437.0</td>\n",
       "      <td>6086.569968</td>\n",
       "      <td>13092.739480</td>\n",
       "      <td>65.592449</td>\n",
       "      <td>770.225419</td>\n",
       "      <td>6551.149438</td>\n",
       "      <td>5705.772174</td>\n",
       "      <td>2478.152661</td>\n",
       "      <td>213.831483</td>\n",
       "    </tr>\n",
       "  </tbody>\n",
       "</table>\n",
       "<p>5 rows × 46 columns</p>\n",
       "</div>"
      ],
      "text/plain": [
       "     C    bandMax  bandTime       bcMax       bcMin  channel        den10  \\\n",
       "0  1.0  39.434251   10100.0  399.728008  245.751146    624.0  9673.330711   \n",
       "1  1.0  39.301239   10090.0  444.433538  225.906266    624.0  9657.767812   \n",
       "2  1.0  40.053721   10090.0  500.491057  255.908987    624.0  9663.999893   \n",
       "3  1.0  39.199651   10080.0  389.936179  257.513630    624.0  9672.812473   \n",
       "4  1.0  39.150821   10110.0  418.698311  246.170113    624.0  9694.809043   \n",
       "\n",
       "         den50         den90   derivMax     ...      trapENMCal  \\\n",
       "0  9800.096284  10039.575915  52.920119     ...       21.424156   \n",
       "1  9787.441418  10039.332668  53.266500     ...       21.565236   \n",
       "2  9789.627640  10013.413052  53.199570     ...       21.537975   \n",
       "3  9795.681627  10014.591145  53.208878     ...       21.541767   \n",
       "4  9821.111276  10053.163706  53.618902     ...       21.708769   \n",
       "\n",
       "   trapENMSample  triggerTrapt0        waveS0     waveS1      waveS2  \\\n",
       "0         1525.0    6078.201582  12973.446235  72.040276  798.694930   \n",
       "1         1521.0    6045.825839  13004.873357  73.745833  799.983960   \n",
       "2         1509.0    6071.494214  13040.375247  98.498032  808.167085   \n",
       "3         1494.0    6051.816543  13046.127839  68.218610  787.478830   \n",
       "4         1437.0    6086.569968  13092.739480  65.592449  770.225419   \n",
       "\n",
       "        waveS3       waveS4       waveS5       wpar4  \n",
       "0  6425.600834  5677.110196  2450.922774  213.656008  \n",
       "1  6462.396693  5668.746872  2410.276246  216.211289  \n",
       "2  6442.317166  5691.392965  2593.577844  210.920976  \n",
       "3  6472.577935  5717.852464  2421.943131  212.393408  \n",
       "4  6551.149438  5705.772174  2478.152661  213.831483  \n",
       "\n",
       "[5 rows x 46 columns]"
      ]
     },
     "execution_count": 2,
     "metadata": {},
     "output_type": "execute_result"
    }
   ],
   "source": [
    "# Read in DS0 External Pulser Files -- Ch624 and Ch688\n",
    "inDir = '/Users/brianzhu/project/Pandas/ForceTrigger'\n",
    "sigFiles = glob.glob('%s/latSkimDS0_run72*.h5' % inDir)\n",
    "dfSig = pd.DataFrame()\n",
    "sigList = []\n",
    "for file in sigFiles:\n",
    "    print(file)\n",
    "    dfDummy = pd.read_hdf(file,'skimTree')\n",
    "    sigList.append(dfDummy)\n",
    "\n",
    "dfSig = pd.concat(sigList)\n",
    "dfSig.head()"
   ]
  },
  {
   "cell_type": "code",
   "execution_count": 3,
   "metadata": {
    "collapsed": false
   },
   "outputs": [
    {
     "name": "stdout",
     "output_type": "stream",
     "text": [
      "/Users/brianzhu/project/Pandas/ForceTrigger/latSkimDS1_run9913.h5\n",
      "/Users/brianzhu/project/Pandas/ForceTrigger/latSkimDS1_run9914.h5\n",
      "/Users/brianzhu/project/Pandas/ForceTrigger/latSkimDS1_run9915.h5\n",
      "/Users/brianzhu/project/Pandas/ForceTrigger/latSkimDS1_run9916.h5\n",
      "/Users/brianzhu/project/Pandas/ForceTrigger/latSkimDS1_run9917.h5\n",
      "/Users/brianzhu/project/Pandas/ForceTrigger/latSkimDS1_run9918.h5\n",
      "/Users/brianzhu/project/Pandas/ForceTrigger/latSkimDS1_run9919.h5\n",
      "/Users/brianzhu/project/Pandas/ForceTrigger/latSkimDS1_run9920.h5\n",
      "/Users/brianzhu/project/Pandas/ForceTrigger/latSkimDS1_run9921.h5\n",
      "/Users/brianzhu/project/Pandas/ForceTrigger/latSkimDS1_run9922.h5\n",
      "/Users/brianzhu/project/Pandas/ForceTrigger/latSkimDS1_run9923.h5\n",
      "/Users/brianzhu/project/Pandas/ForceTrigger/latSkimDS1_run9925.h5\n",
      "/Users/brianzhu/project/Pandas/ForceTrigger/latSkimDS1_run9926.h5\n"
     ]
    },
    {
     "data": {
      "text/html": [
       "<div>\n",
       "<table border=\"1\" class=\"dataframe\">\n",
       "  <thead>\n",
       "    <tr style=\"text-align: right;\">\n",
       "      <th></th>\n",
       "      <th>C</th>\n",
       "      <th>bandMax</th>\n",
       "      <th>bandTime</th>\n",
       "      <th>bcMax</th>\n",
       "      <th>bcMin</th>\n",
       "      <th>channel</th>\n",
       "      <th>den10</th>\n",
       "      <th>den50</th>\n",
       "      <th>den90</th>\n",
       "      <th>derivMax</th>\n",
       "      <th>...</th>\n",
       "      <th>trapENMCal</th>\n",
       "      <th>trapENMSample</th>\n",
       "      <th>triggerTrapt0</th>\n",
       "      <th>waveS0</th>\n",
       "      <th>waveS1</th>\n",
       "      <th>waveS2</th>\n",
       "      <th>waveS3</th>\n",
       "      <th>waveS4</th>\n",
       "      <th>waveS5</th>\n",
       "      <th>wpar4</th>\n",
       "    </tr>\n",
       "  </thead>\n",
       "  <tbody>\n",
       "    <tr>\n",
       "      <th>0</th>\n",
       "      <td>1.0</td>\n",
       "      <td>388.449312</td>\n",
       "      <td>20040.0</td>\n",
       "      <td>1607.979354</td>\n",
       "      <td>234.418748</td>\n",
       "      <td>582.0</td>\n",
       "      <td>510.620169</td>\n",
       "      <td>2267.848049</td>\n",
       "      <td>2716.572135</td>\n",
       "      <td>0.018621</td>\n",
       "      <td>...</td>\n",
       "      <td>-0.093654</td>\n",
       "      <td>1045.0</td>\n",
       "      <td>6488.439727</td>\n",
       "      <td>131202.280181</td>\n",
       "      <td>76.464425</td>\n",
       "      <td>71.101300</td>\n",
       "      <td>67.021414</td>\n",
       "      <td>130987.693042</td>\n",
       "      <td>3320.631400</td>\n",
       "      <td>6713.585160</td>\n",
       "    </tr>\n",
       "    <tr>\n",
       "      <th>1</th>\n",
       "      <td>1.0</td>\n",
       "      <td>1277.436624</td>\n",
       "      <td>17390.0</td>\n",
       "      <td>1482.874413</td>\n",
       "      <td>232.365326</td>\n",
       "      <td>582.0</td>\n",
       "      <td>16983.429505</td>\n",
       "      <td>17102.357414</td>\n",
       "      <td>17325.769878</td>\n",
       "      <td>1385.085856</td>\n",
       "      <td>...</td>\n",
       "      <td>527.641894</td>\n",
       "      <td>2015.0</td>\n",
       "      <td>5320.954462</td>\n",
       "      <td>130811.997177</td>\n",
       "      <td>69.316035</td>\n",
       "      <td>57.086466</td>\n",
       "      <td>71.513395</td>\n",
       "      <td>130614.081281</td>\n",
       "      <td>3184.872662</td>\n",
       "      <td>6726.820387</td>\n",
       "    </tr>\n",
       "    <tr>\n",
       "      <th>2</th>\n",
       "      <td>1.0</td>\n",
       "      <td>387.343933</td>\n",
       "      <td>20040.0</td>\n",
       "      <td>1558.992225</td>\n",
       "      <td>243.870622</td>\n",
       "      <td>582.0</td>\n",
       "      <td>1004.005732</td>\n",
       "      <td>1077.392320</td>\n",
       "      <td>1168.061146</td>\n",
       "      <td>0.356527</td>\n",
       "      <td>...</td>\n",
       "      <td>0.035094</td>\n",
       "      <td>1493.0</td>\n",
       "      <td>5572.469465</td>\n",
       "      <td>131109.224822</td>\n",
       "      <td>67.619383</td>\n",
       "      <td>62.712298</td>\n",
       "      <td>71.638637</td>\n",
       "      <td>130907.254504</td>\n",
       "      <td>3259.819474</td>\n",
       "      <td>6712.105716</td>\n",
       "    </tr>\n",
       "    <tr>\n",
       "      <th>3</th>\n",
       "      <td>1.0</td>\n",
       "      <td>1276.603449</td>\n",
       "      <td>17370.0</td>\n",
       "      <td>1652.389624</td>\n",
       "      <td>240.185818</td>\n",
       "      <td>582.0</td>\n",
       "      <td>16964.763584</td>\n",
       "      <td>17083.872210</td>\n",
       "      <td>17307.221102</td>\n",
       "      <td>1392.545699</td>\n",
       "      <td>...</td>\n",
       "      <td>530.484228</td>\n",
       "      <td>2015.0</td>\n",
       "      <td>1635.523960</td>\n",
       "      <td>131625.998246</td>\n",
       "      <td>54.170793</td>\n",
       "      <td>84.379260</td>\n",
       "      <td>70.817901</td>\n",
       "      <td>131416.630293</td>\n",
       "      <td>3385.728430</td>\n",
       "      <td>6720.664564</td>\n",
       "    </tr>\n",
       "    <tr>\n",
       "      <th>4</th>\n",
       "      <td>1.0</td>\n",
       "      <td>386.626336</td>\n",
       "      <td>20040.0</td>\n",
       "      <td>1465.272541</td>\n",
       "      <td>221.771236</td>\n",
       "      <td>582.0</td>\n",
       "      <td>89.751928</td>\n",
       "      <td>1239.005546</td>\n",
       "      <td>1362.576305</td>\n",
       "      <td>0.139745</td>\n",
       "      <td>...</td>\n",
       "      <td>-0.047504</td>\n",
       "      <td>1369.0</td>\n",
       "      <td>1868.666813</td>\n",
       "      <td>130630.308954</td>\n",
       "      <td>65.387341</td>\n",
       "      <td>81.944849</td>\n",
       "      <td>70.673332</td>\n",
       "      <td>130412.303431</td>\n",
       "      <td>3181.726580</td>\n",
       "      <td>6726.215601</td>\n",
       "    </tr>\n",
       "  </tbody>\n",
       "</table>\n",
       "<p>5 rows × 46 columns</p>\n",
       "</div>"
      ],
      "text/plain": [
       "     C      bandMax  bandTime        bcMax       bcMin  channel         den10  \\\n",
       "0  1.0   388.449312   20040.0  1607.979354  234.418748    582.0    510.620169   \n",
       "1  1.0  1277.436624   17390.0  1482.874413  232.365326    582.0  16983.429505   \n",
       "2  1.0   387.343933   20040.0  1558.992225  243.870622    582.0   1004.005732   \n",
       "3  1.0  1276.603449   17370.0  1652.389624  240.185818    582.0  16964.763584   \n",
       "4  1.0   386.626336   20040.0  1465.272541  221.771236    582.0     89.751928   \n",
       "\n",
       "          den50         den90     derivMax     ...       trapENMCal  \\\n",
       "0   2267.848049   2716.572135     0.018621     ...        -0.093654   \n",
       "1  17102.357414  17325.769878  1385.085856     ...       527.641894   \n",
       "2   1077.392320   1168.061146     0.356527     ...         0.035094   \n",
       "3  17083.872210  17307.221102  1392.545699     ...       530.484228   \n",
       "4   1239.005546   1362.576305     0.139745     ...        -0.047504   \n",
       "\n",
       "   trapENMSample  triggerTrapt0         waveS0     waveS1     waveS2  \\\n",
       "0         1045.0    6488.439727  131202.280181  76.464425  71.101300   \n",
       "1         2015.0    5320.954462  130811.997177  69.316035  57.086466   \n",
       "2         1493.0    5572.469465  131109.224822  67.619383  62.712298   \n",
       "3         2015.0    1635.523960  131625.998246  54.170793  84.379260   \n",
       "4         1369.0    1868.666813  130630.308954  65.387341  81.944849   \n",
       "\n",
       "      waveS3         waveS4       waveS5        wpar4  \n",
       "0  67.021414  130987.693042  3320.631400  6713.585160  \n",
       "1  71.513395  130614.081281  3184.872662  6726.820387  \n",
       "2  71.638637  130907.254504  3259.819474  6712.105716  \n",
       "3  70.817901  131416.630293  3385.728430  6720.664564  \n",
       "4  70.673332  130412.303431  3181.726580  6726.215601  \n",
       "\n",
       "[5 rows x 46 columns]"
      ]
     },
     "execution_count": 3,
     "metadata": {},
     "output_type": "execute_result"
    }
   ],
   "source": [
    "# Read in DS1 Force Trigger files\n",
    "inDir = '/Users/brianzhu/project/Pandas/ForceTrigger'\n",
    "bkgFiles = glob.glob('%s/latSkimDS1_run99*.h5' % inDir)\n",
    "dfBkg = pd.DataFrame()\n",
    "bkgList = []\n",
    "for file in bkgFiles:\n",
    "    print(file)\n",
    "    dfDummy = pd.read_hdf(file,'skimTree')\n",
    "    bkgList.append(dfDummy)\n",
    "\n",
    "dfBkg = pd.concat(bkgList)\n",
    "dfBkg.head()"
   ]
  },
  {
   "cell_type": "code",
   "execution_count": 4,
   "metadata": {
    "collapsed": false
   },
   "outputs": [
    {
     "name": "stdout",
     "output_type": "stream",
     "text": [
      "(42186, 46)\n",
      "(180959, 46)\n"
     ]
    }
   ],
   "source": [
    "print (dfSig.shape)\n",
    "print (dfBkg.shape)"
   ]
  },
  {
   "cell_type": "code",
   "execution_count": 5,
   "metadata": {
    "collapsed": false
   },
   "outputs": [
    {
     "name": "stdout",
     "output_type": "stream",
     "text": [
      "(180959, 46)\n",
      "(166155, 46)\n",
      "['C' 'bandMax' 'bandTime' 'bcMax' 'bcMin' 'channel' 'den10' 'den50' 'den90'\n",
      " 'derivMax' 'derivTime' 'exp0' 'exp1' 'fails' 'fitE' 'fitMatch' 'fitMax'\n",
      " 'fitSlo' 'kvorrT' 'matchMax' 'matchTime' 'matchWidth' 'oppie' 'pol0'\n",
      " 'pol1' 'pol2' 'raw10' 'raw50' 'raw90' 'run' 'tOffset' 'threshKeV'\n",
      " 'threshSigma' 'trapENF' 'trapENFCal' 'trapENM' 'trapENMCal'\n",
      " 'trapENMSample' 'triggerTrapt0' 'waveS0' 'waveS1' 'waveS2' 'waveS3'\n",
      " 'waveS4' 'waveS5' 'wpar4']\n"
     ]
    }
   ],
   "source": [
    "# Clean up datasets a little\n",
    "# Determined that the cut to use to remove extra pulsers for FT run is oppie < 15 || TMath::IsNaN(oppie)\n",
    "# First replace all NaN values in oppie with a dummy variable like -9999, this allows a cut like oppie < 15 \n",
    "\n",
    "# dfBkg.loc[:,'S5Cut'] = df1.loc[:,'waveS5'] / np.power(df1.loc[:,'trapENFCal'], 0.25)\n",
    "# dfBkg = np.isnan(dfBkg.loc[:,'oppie'])\n",
    "\n",
    "# inplace=True actually replaces the values in the column with the new values\n",
    "dfBkg['oppie'].fillna(-9999, inplace=True)\n",
    "print (dfBkg.shape)\n",
    "\n",
    "# The background DF is set\n",
    "# The signal DF is already fine\n",
    "dfBkgTest = dfBkg.query('oppie < 15')\n",
    "dfBkgTest.shape\n",
    "print (dfBkgTest.shape)\n",
    "print (dfSig.columns.values)"
   ]
  },
  {
   "cell_type": "code",
   "execution_count": 6,
   "metadata": {
    "collapsed": false
   },
   "outputs": [
    {
     "name": "stdout",
     "output_type": "stream",
     "text": [
      "(42186, 20)\n",
      "(166155, 20)\n",
      "['bandMax' 'bcMax' 'bcMin' 'derivMax' 'exp1' 'fitSlo' 'matchMax'\n",
      " 'matchTime' 'matchWidth' 'oppie' 'pol1' 'pol2' 'tOffset' 'waveS1' 'waveS2'\n",
      " 'waveS3' 'waveS4' 'waveS5' 'wpar4' 'Truth']\n"
     ]
    }
   ],
   "source": [
    "# Drop all columns that aren't useful for learning\n",
    "# Stuff to drop: all time parameters since we don't trust them, energies\n",
    "dfBkgTest = dfBkgTest.drop(['C','channel','run','fails','bandTime','den10','den50','den90','derivTime','exp0','fitE','fitMatch','fitMax','kvorrT','pol0','raw10','raw50','raw90','threshKeV','threshSigma','trapENF','trapENFCal','trapENM','trapENMCal','trapENMSample','triggerTrapt0','waveS0'], axis=1)\n",
    "dfSig = dfSig.drop(['C','channel','run','fails','bandTime','den10','den50','den90','derivTime','exp0','fitE','fitMatch','fitMax','kvorrT','pol0','raw10','raw50','raw90','threshKeV','threshSigma','trapENF','trapENFCal','trapENM','trapENMCal','trapENMSample','triggerTrapt0','waveS0'], axis=1)\n",
    "# Add Column of zeros and ones for truth information\n",
    "dfBkgTest['Truth'] = 0\n",
    "dfSig['Truth'] = 1\n",
    "print (dfSig.shape)\n",
    "print (dfBkgTest.shape)\n",
    "print (dfBkgTest.columns.values)"
   ]
  },
  {
   "cell_type": "code",
   "execution_count": 7,
   "metadata": {
    "collapsed": false,
    "scrolled": false
   },
   "outputs": [
    {
     "data": {
      "image/png": "[encoded data removed]",
      "text/plain": [
       "<matplotlib.figure.Figure at 0x1161a2c10>"
      ]
     },
     "metadata": {},
     "output_type": "display_data"
    },
    {
     "data": {
      "image/png": "[encoded data removed]",
      "text/plain": [
       "<matplotlib.figure.Figure at 0x1161a2b50>"
      ]
     },
     "metadata": {},
     "output_type": "display_data"
    }
   ],
   "source": [
    "# Correlations using dataframes\n",
    "def correlations(data, **kwds):\n",
    "    \"\"\"Calculate pairwise correlation between features.\n",
    "    \n",
    "    Extra arguments are passed on to DataFrame.corr()\n",
    "    \"\"\"\n",
    "    # simply call df.corr() to get a table of\n",
    "    # correlation values if you do not need\n",
    "    # the fancy plotting\n",
    "    corrmat = data.corr(**kwds)\n",
    "\n",
    "    fig, ax1 = plt.subplots(ncols=1, figsize=(11,8))\n",
    "    \n",
    "    opts = {'cmap': plt.get_cmap(\"RdBu\"),\n",
    "            'vmin': -1, 'vmax': +1}\n",
    "    heatmap1 = ax1.pcolor(corrmat, **opts)\n",
    "    plt.colorbar(heatmap1, ax=ax1)\n",
    "\n",
    "    ax1.set_title(\"Correlations\")\n",
    "\n",
    "    labels = corrmat.columns.values\n",
    "    for ax in (ax1,):\n",
    "        # shift location of ticks to center of the bins\n",
    "        ax.set_xticks(np.arange(len(labels))+0.5, minor=False)\n",
    "        ax.set_yticks(np.arange(len(labels))+0.5, minor=False)\n",
    "        ax.set_xticklabels(labels, minor=False, ha='right', rotation=70)\n",
    "        ax.set_yticklabels(labels, minor=False)\n",
    "        \n",
    "    plt.tight_layout()\n",
    "    return fig\n",
    "    \n",
    "# Use DF with energy cuts\n",
    "# Drop 'run' and 'fails' columns\n",
    "f1 = correlations(dfBkgTest.drop('Truth',axis=1))\n",
    "f1 = correlations(dfSig.drop('Truth',axis=1))\n",
    "# f1.savefig('Correlation.png')"
   ]
  },
  {
   "cell_type": "code",
   "execution_count": 8,
   "metadata": {
    "collapsed": false
   },
   "outputs": [
    {
     "name": "stdout",
     "output_type": "stream",
     "text": [
      "(208341, 20)\n",
      "((139588, 20), (68753, 20), (93523, 20), (46065, 20))\n",
      "['bandMax' 'bcMax' 'bcMin' 'derivMax' 'exp1' 'fitSlo' 'matchMax'\n",
      " 'matchTime' 'matchWidth' 'oppie' 'pol1' 'pol2' 'tOffset' 'waveS1' 'waveS2'\n",
      " 'waveS3' 'waveS4' 'waveS5' 'wpar4' 'Truth']\n",
      "((139588, 19), (68753, 19), (93523, 19), (46065, 19))\n",
      "((139588,), (68753,), (93523,), (46065,))\n",
      "['bandMax' 'bcMax' 'bcMin' 'derivMax' 'exp1' 'fitSlo' 'matchMax'\n",
      " 'matchTime' 'matchWidth' 'oppie' 'pol1' 'pol2' 'tOffset' 'waveS1' 'waveS2'\n",
      " 'waveS3' 'waveS4' 'waveS5' 'wpar4']\n"
     ]
    }
   ],
   "source": [
    "# Split up training data for testing\n",
    "from sklearn.model_selection import train_test_split\n",
    "\n",
    "TotalDF = pd.concat([dfBkgTest,dfSig])\n",
    "TotalDF.head()\n",
    "print (TotalDF.shape)\n",
    "\n",
    "# Split it twice, first split creates development (with 66% of data) and evaluation set\n",
    "# 2nd split is for training and testing the training\n",
    "DF_dev, DF_eval = train_test_split(TotalDF, test_size=0.33, random_state=42)\n",
    "DF_train, DF_test = train_test_split(DF_dev, test_size=0.33, random_state=492)\n",
    "\n",
    "print(DF_dev.shape, DF_eval.shape, DF_train.shape, DF_test.shape)\n",
    "print(DF_dev.columns.values)\n",
    "\n",
    "# For sklearn, drop the Truth column for X, only save Truth for Y\n",
    "# X is the data, Y is the target\n",
    "X_dev = DF_dev.drop('Truth', axis=1)\n",
    "X_eval = DF_eval.drop('Truth', axis=1)\n",
    "X_train = DF_train.drop('Truth', axis=1)\n",
    "X_test = DF_test.drop('Truth', axis=1)\n",
    "Y_dev = DF_dev['Truth']\n",
    "Y_eval = DF_eval['Truth']\n",
    "Y_train = DF_train['Truth']\n",
    "Y_test = DF_test['Truth']\n",
    "print(X_dev.shape, X_eval.shape, X_train.shape, X_test.shape)\n",
    "print(Y_dev.shape, Y_eval.shape, Y_train.shape, Y_test.shape)\n",
    "print(X_dev.columns.values)"
   ]
  },
  {
   "cell_type": "code",
   "execution_count": 9,
   "metadata": {
    "collapsed": true
   },
   "outputs": [],
   "source": [
    "# Learn stuff!\n",
    "from sklearn.linear_model import LogisticRegression\n",
    "from sklearn.svm import SVC, LinearSVC\n",
    "from sklearn.ensemble import RandomForestClassifier, AdaBoostClassifier\n",
    "from sklearn.neighbors import KNeighborsClassifier\n",
    "from sklearn.naive_bayes import GaussianNB\n",
    "from sklearn.linear_model import Perceptron\n",
    "from sklearn.linear_model import SGDClassifier\n",
    "from sklearn.tree import DecisionTreeClassifier\n",
    "from sklearn.neural_network import MLPClassifier\n",
    "\n",
    "from sklearn.metrics import classification_report, roc_auc_score\n",
    "# Normalization and scaling of data before using it in machine learning\n",
    "from sklearn import preprocessing"
   ]
  },
  {
   "cell_type": "code",
   "execution_count": 10,
   "metadata": {
    "collapsed": false
   },
   "outputs": [
    {
     "name": "stdout",
     "output_type": "stream",
     "text": [
      "52.64\n"
     ]
    }
   ],
   "source": [
    "# Logistic Regression -- this sucks\n",
    "\n",
    "logreg = LogisticRegression()\n",
    "logreg.fit(X_train, Y_train)\n",
    "Y_pred = logreg.predict(X_test)\n",
    "acc_log = round(logreg.score(X_train, Y_train) * 100, 2)\n",
    "print(acc_log)"
   ]
  },
  {
   "cell_type": "code",
   "execution_count": 11,
   "metadata": {
    "collapsed": false
   },
   "outputs": [
    {
     "name": "stdout",
     "output_type": "stream",
     "text": [
      "         bandMax       bcMax       bcMin   derivMax          exp1      fitSlo  \\\n",
      "8709    1.333933  450.040856  236.969081  -0.000000  4.724209e+11   20.000000   \n",
      "4536    1.174328  269.774975  201.635495   0.000000  2.872317e+11   20.000000   \n",
      "2353   16.408860  428.105853  252.715987  21.467176  7.942964e+04    5.880789   \n",
      "2513    1.400398  281.359377  210.682460  -0.000000  3.724866e+11   20.000000   \n",
      "11912   0.986605  259.083813  210.341884   1.636084 -8.888800e+04  340.375000   \n",
      "\n",
      "         matchMax     matchTime  matchWidth        oppie          pol1  \\\n",
      "8709    -0.000000      0.000000      -888.0 -9999.000000     -0.000520   \n",
      "4536    -0.000000      0.000000      -888.0 -9999.000000     -0.000326   \n",
      "2353   341.695123  10704.278788       360.0    44.462017      0.002306   \n",
      "2513    -0.000000      0.000000      -888.0 -9999.000000     -0.000877   \n",
      "11912 -888.000000   -888.000000      -888.0     4.009317 -88888.000000   \n",
      "\n",
      "               pol2  tOffset      waveS1      waveS2       waveS3  \\\n",
      "8709   8.910087e-09      0.0  119.878771  286.161778   561.085671   \n",
      "4536  -1.162253e-08      0.0  105.167925  261.477221   547.040338   \n",
      "2353  -1.794555e-07   1180.0   67.533013  589.399217  2585.898913   \n",
      "2513  -1.352552e-08      0.0  175.938138  617.352647  1284.754814   \n",
      "11912 -8.888800e+04      0.0   63.624517   75.433280   186.199596   \n",
      "\n",
      "            waveS4       waveS5      wpar4  \n",
      "8709    767.259838  2482.864907  31.077630  \n",
      "4536    742.000563  1779.005419  31.153052  \n",
      "2353   2293.812355  2511.245533  90.942295  \n",
      "2513   1806.332892  1757.330649  69.507499  \n",
      "11912   235.110100  1775.048311  13.015817  \n",
      "(93523, 19)\n",
      "[[  2.82361264e-12   9.52626998e-10   5.01605889e-10 ...,   1.62410240e-09\n",
      "    5.25562093e-09   6.57837817e-11]\n",
      " [  4.08843604e-12   9.39224224e-10   7.01995955e-10 ...,   2.58328225e-09\n",
      "    6.19362484e-09   1.08459657e-10]\n",
      " [  2.04406879e-04   5.33295912e-03   3.14810932e-03 ...,   2.85742590e-02\n",
      "    3.12828467e-02   1.13287763e-03]\n",
      " ..., \n",
      " [  4.69681564e-12   1.37437599e-09   1.04576129e-09 ...,   1.55450471e-09\n",
      "    8.99148174e-09   7.71840680e-11]\n",
      " [  4.17946076e-04   6.68230096e-03   3.09114436e-03 ...,   6.01554711e-02\n",
      "    3.30820592e-02   2.24055824e-03]\n",
      " [  9.05917838e-06   3.01859313e-03   1.49563034e-03 ...,   5.22974298e-03\n",
      "    1.61973546e-02   2.16969738e-04]]\n",
      "(93523, 19)\n",
      "<type 'numpy.ndarray'>\n"
     ]
    }
   ],
   "source": [
    "# Normalize data -- rescales values between 0 and 1\n",
    "# Good for models that require magnitudes\n",
    "# Converts the DataFrame into a 2-D numpy array\n",
    "X_dev_norm = preprocessing.normalize(X_dev)\n",
    "X_eval_norm = preprocessing.normalize(X_eval)\n",
    "X_train_norm = preprocessing.normalize(X_train)\n",
    "X_test_norm = preprocessing.normalize(X_test)\n",
    "print(X_train.head())\n",
    "print(X_train.shape)\n",
    "print(X_train_norm)\n",
    "print(X_train_norm.shape)\n",
    "print(type(X_train_norm))"
   ]
  },
  {
   "cell_type": "code",
   "execution_count": 12,
   "metadata": {
    "collapsed": false
   },
   "outputs": [
    {
     "name": "stdout",
     "output_type": "stream",
     "text": [
      "         bandMax       bcMax       bcMin   derivMax          exp1      fitSlo  \\\n",
      "8709    1.333933  450.040856  236.969081  -0.000000  4.724209e+11   20.000000   \n",
      "4536    1.174328  269.774975  201.635495   0.000000  2.872317e+11   20.000000   \n",
      "2353   16.408860  428.105853  252.715987  21.467176  7.942964e+04    5.880789   \n",
      "2513    1.400398  281.359377  210.682460  -0.000000  3.724866e+11   20.000000   \n",
      "11912   0.986605  259.083813  210.341884   1.636084 -8.888800e+04  340.375000   \n",
      "\n",
      "         matchMax     matchTime  matchWidth        oppie          pol1  \\\n",
      "8709    -0.000000      0.000000      -888.0 -9999.000000     -0.000520   \n",
      "4536    -0.000000      0.000000      -888.0 -9999.000000     -0.000326   \n",
      "2353   341.695123  10704.278788       360.0    44.462017      0.002306   \n",
      "2513    -0.000000      0.000000      -888.0 -9999.000000     -0.000877   \n",
      "11912 -888.000000   -888.000000      -888.0     4.009317 -88888.000000   \n",
      "\n",
      "               pol2  tOffset      waveS1      waveS2       waveS3  \\\n",
      "8709   8.910087e-09      0.0  119.878771  286.161778   561.085671   \n",
      "4536  -1.162253e-08      0.0  105.167925  261.477221   547.040338   \n",
      "2353  -1.794555e-07   1180.0   67.533013  589.399217  2585.898913   \n",
      "2513  -1.352552e-08      0.0  175.938138  617.352647  1284.754814   \n",
      "11912 -8.888800e+04      0.0   63.624517   75.433280   186.199596   \n",
      "\n",
      "            waveS4       waveS5      wpar4  \n",
      "8709    767.259838  2482.864907  31.077630  \n",
      "4536    742.000563  1779.005419  31.153052  \n",
      "2353   2293.812355  2511.245533  90.942295  \n",
      "2513   1806.332892  1757.330649  69.507499  \n",
      "11912   235.110100  1775.048311  13.015817  \n",
      "(93523, 19)\n",
      "[[-0.38478393  1.11849681  0.39411483 ..., -0.33561439  0.91140055\n",
      "  -0.34018113]\n",
      " [-0.40101267 -0.79199628 -0.8846976  ..., -0.34589694 -0.78591533\n",
      "  -0.33939298]\n",
      " [ 1.14804452  0.88602536  0.96403546 ...,  0.28581489  0.97983877\n",
      "   0.28539899]\n",
      " ..., \n",
      " [-0.4253328  -0.75101843 -0.64662231 ..., -0.5219571  -0.75885997\n",
      "  -0.50435022]\n",
      " [ 2.99974306  2.2151458   1.08467185 ...,  1.38047537  1.5321675\n",
      "   1.27448429]\n",
      " [-0.37857083  1.27531998  0.15326944 ..., -0.32011412  0.93887121\n",
      "  -0.31579221]]\n",
      "(93523, 19)\n",
      "<type 'numpy.ndarray'>\n"
     ]
    },
    {
     "name": "stderr",
     "output_type": "stream",
     "text": [
      "/Users/brianzhu/anaconda/lib/python2.7/site-packages/sklearn/preprocessing/data.py:160: UserWarning: Numerical issues were encountered when centering the data and might not be solved. Dataset may contain too large values. You may need to prescale your features.\n",
      "  warnings.warn(\"Numerical issues were encountered \"\n"
     ]
    }
   ],
   "source": [
    "# Scale data (standardization) -- shifts distribution s.t. mean is 0 and std is 1\n",
    "# Good for Gaussian processes\n",
    "X_dev_scale = preprocessing.scale(X_dev)\n",
    "X_eval_scale = preprocessing.scale(X_eval)\n",
    "X_train_scale = preprocessing.scale(X_train)\n",
    "X_test_scale = preprocessing.scale(X_test)\n",
    "print(X_train.head())\n",
    "print(X_train.shape)\n",
    "print(X_train_scale)\n",
    "print(X_train_scale.shape)\n",
    "print(type(X_train_scale))"
   ]
  },
  {
   "cell_type": "code",
   "execution_count": 13,
   "metadata": {
    "collapsed": false
   },
   "outputs": [
    {
     "name": "stdout",
     "output_type": "stream",
     "text": [
      "98.07\n",
      "99.99\n"
     ]
    }
   ],
   "source": [
    "# Test out logistic regression with the scaled data\n",
    "\n",
    "logreg1 = LogisticRegression()\n",
    "logreg1.fit(X_train_norm, Y_train)\n",
    "Y_pred1 = logreg1.predict(X_test_norm)\n",
    "acc_log1 = round(logreg1.score(X_train_norm, Y_train) * 100, 2)\n",
    "print(acc_log1)\n",
    "\n",
    "logreg2 = LogisticRegression()\n",
    "logreg2.fit(X_train_scale, Y_train)\n",
    "Y_pred2 = logreg2.predict(X_test_scale)\n",
    "acc_log2 = round(logreg2.score(X_train_scale, Y_train) * 100, 2)\n",
    "print(acc_log2)\n",
    "\n",
    "# Wow much better, is it real?\n",
    "# Gaussian scaling seems better, use that from now on"
   ]
  },
  {
   "cell_type": "code",
   "execution_count": 14,
   "metadata": {
    "collapsed": false
   },
   "outputs": [],
   "source": [
    "# AdaBoost BDT\n",
    "\n",
    "# dt = DecisionTreeClassifier(max_depth=3, min_samples_leaf=0.005*len(X_train_scale[0]))\n",
    "# bdt = AdaBoostClassifier(dt, algorithm='SAMME', n_estimators=800, learning_rate=0.5)\n",
    "# bdt.fit(X_train_scale, Y_train)"
   ]
  },
  {
   "cell_type": "code",
   "execution_count": 17,
   "metadata": {
    "collapsed": false
   },
   "outputs": [
    {
     "name": "stdout",
     "output_type": "stream",
     "text": [
      "Iteration 1, loss = 0.05049305\n",
      "Iteration 2, loss = 0.00195225\n",
      "Iteration 3, loss = 0.00090102\n",
      "Iteration 4, loss = 0.00057840\n",
      "Iteration 5, loss = 0.00043420\n",
      "Iteration 6, loss = 0.00034093\n",
      "Iteration 7, loss = 0.00028080\n",
      "Iteration 8, loss = 0.00024036\n",
      "Training loss did not improve more than tol=0.000100 for two consecutive epochs. Stopping.\n"
     ]
    },
    {
     "data": {
      "text/plain": [
       "MLPClassifier(activation='tanh', alpha=1e-05, batch_size='auto', beta_1=0.9,\n",
       "       beta_2=0.999, early_stopping=False, epsilon=1e-08,\n",
       "       hidden_layer_sizes=(19, 18), learning_rate='constant',\n",
       "       learning_rate_init=0.001, max_iter=500, momentum=0.9,\n",
       "       nesterovs_momentum=True, power_t=0.5, random_state=1, shuffle=True,\n",
       "       solver='adam', tol=0.0001, validation_fraction=0.1, verbose=True,\n",
       "       warm_start=False)"
      ]
     },
     "execution_count": 17,
     "metadata": {},
     "output_type": "execute_result"
    }
   ],
   "source": [
    "# MLP -- hidden layer sizes: N, N-1\n",
    "\n",
    "MLP = MLPClassifier(solver='adam', activation='tanh', alpha=1e-5, hidden_layer_sizes=(19, 18), random_state=1, max_iter=500, verbose=True)\n",
    "# MLP = MLPClassifier(solver='lbfgs', alpha=1e-5, hidden_layer_sizes=(19, 18), random_state=1)\n",
    "MLP.fit(X_train_scale, Y_train)"
   ]
  },
  {
   "cell_type": "code",
   "execution_count": 26,
   "metadata": {
    "collapsed": false
   },
   "outputs": [
    {
     "name": "stdout",
     "output_type": "stream",
     "text": [
      "100.0\n",
      "             precision    recall  f1-score   support\n",
      "\n",
      " background       1.00      1.00      1.00     36748\n",
      "     signal       1.00      1.00      1.00      9317\n",
      "\n",
      "avg / total       1.00      1.00      1.00     46065\n",
      "\n",
      "[[  9.99981667e-01   1.83325157e-05]\n",
      " [  9.99943767e-01   5.62327814e-05]\n",
      " [  2.63440339e-05   9.99973656e-01]\n",
      " ..., \n",
      " [  9.99936942e-01   6.30578178e-05]\n",
      " [  9.99947326e-01   5.26741066e-05]\n",
      " [  9.99979719e-01   2.02807664e-05]]\n"
     ]
    }
   ],
   "source": [
    "# Check the classifiers performance\n",
    "# lol 100%\n",
    "from sklearn.metrics import classification_report, roc_auc_score\n",
    "\n",
    "Y_pred = MLP.predict(X_test_scale)\n",
    "acc_MLP = round(MLP.score(X_train_scale, Y_train)*100,2)\n",
    "print(acc_MLP)\n",
    "print classification_report(Y_test, Y_pred,\n",
    "                            target_names=[\"background\", \"signal\"])\n",
    "print MLP.predict_proba(X_test_scale)\n",
    "# print \"Area under ROC curve: %.4f\"%(roc_auc_score(Y_test, MLP.predict_proba(X_test_scale)))"
   ]
  },
  {
   "cell_type": "code",
   "execution_count": null,
   "metadata": {
    "collapsed": true
   },
   "outputs": [],
   "source": []
  }
 ],
 "metadata": {
  "kernelspec": {
   "display_name": "Python [conda root]",
   "language": "python",
   "name": "conda-root-py"
  },
  "language_info": {
   "codemirror_mode": {
    "name": "ipython",
    "version": 2
   },
   "file_extension": ".py",
   "mimetype": "text/x-python",
   "name": "python",
   "nbconvert_exporter": "python",
   "pygments_lexer": "ipython2",
   "version": "2.7.13"
  }
 },
 "nbformat": 4,
 "nbformat_minor": 2
}
